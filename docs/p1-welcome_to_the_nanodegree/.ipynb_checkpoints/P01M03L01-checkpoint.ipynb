{
 "cells": [
  {
   "cell_type": "markdown",
   "metadata": {},
   "source": [
    "## Module 03: Setting Up Your Computer\n",
    "\n",
    "### Lesson 01: Setting Up Your Computer\n",
    "\n",
    "> In this lesson, get your computer set up with Python 3 using Anaconda, as well as setting up a text editor."
   ]
  },
  {
   "cell_type": "markdown",
   "metadata": {},
   "source": [
    "#### 01. Intro"
   ]
  },
  {
   "cell_type": "markdown",
   "metadata": {},
   "source": [
    "#### 02. Python Installation\n",
    "\n",
    "Before We Install Python:\n",
    "1. Prepare to Use Command Line\n",
    "2. Ysing the most recent major version of Python - Python 3."
   ]
  },
  {
   "cell_type": "markdown",
   "metadata": {},
   "source": [
    "#### 03. [For Windows] Configuring Git Bash to Run Python\n",
    "\n",
    "* Step 1: Enter cd to get to your home directory.\n",
    "* Step 2: Enter pwd to get the path to your home directory.\n",
    "* Step 3: Get the file path to your Anaconda installation.\n",
    "* Step 4: Add Python and Anaconda to PATH in .bashrc file.\n",
    "    * `echo 'export PATH=\"$PATH:[YOUR_PATH]:[YOUR_PATH]/Scripts\"' >> .bashrc`\n",
    "* Step 5: Add alias for Python in .bashrc file.\n",
    "    * `echo 'alias python=\"winpty python.exe\"' >> .bashrc`\n",
    "* Step 6: Execute commands from .bashrc\n",
    "    * `source .bashrc`\n",
    "* Step 7: Test Run"
   ]
  },
  {
   "cell_type": "markdown",
   "metadata": {},
   "source": [
    "#### 04. What is Anaconda?\n",
    "\n",
    "Anaconda is actually a distribution of software that comes with conda, Python, and over 150 scientific packages and their dependencies. The application conda is a package and environment manager. Anaconda is a fairly large download (~500 MB) because it comes with the most common data science packages in Python. "
   ]
  },
  {
   "cell_type": "markdown",
   "metadata": {},
   "source": [
    "#### 05. Installing Anaconda\n",
    "\n",
    "Anaconda is available for Windows, Mac OS X, and Linux. You can find the installers and installation instructions at https://www.anaconda.com/download/.\n",
    "\n",
    "`conda upgrade conda`\n",
    "`conda upgrade --all`"
   ]
  },
  {
   "cell_type": "markdown",
   "metadata": {},
   "source": [
    "#### 06. Managing packages\n",
    "\n",
    "To install a package, type `conda install package_name` in your terminal."
   ]
  },
  {
   "cell_type": "markdown",
   "metadata": {},
   "source": [
    "#### 07. On Python versions at Udacity"
   ]
  },
  {
   "cell_type": "markdown",
   "metadata": {},
   "source": [
    "#### 08. Running a Python Script\n",
    "\n",
    "**Run a Python Script!**\n",
    "\n",
    "1. Download the zip file `first_script` attached at the bottom of this page (click it to unzip the file, then move it to an appropriate directory on your computer). This might be a good time to set up a new directory for your learning if you don't have one already.\n",
    "2. Open your terminal and use `cd` to navigate to the directory containing that downloaded file.\n",
    "3. Now that you’re in the directory with the file, you can run it by typing `python first_script.py` and pressing enter. Note: You may have to enter `python3` instead of `python` to execute Python 3 if you have both versions installed on your computer."
   ]
  },
  {
   "cell_type": "markdown",
   "metadata": {},
   "source": [
    "#### 09. Programming Environment Setup\n",
    "\n",
    "Below you will find a number of different options for code editors. We recommend for all of our courses using Atom, which will work on all operating systems. If you decide not to use Atom, for first time coders Sublime is also popular.\n",
    "\n",
    "**For Mac and Linux**:\n",
    "\n",
    "* Visual Studio Code\n",
    "* Atom\n",
    "* Sublime Text\n",
    "* emacs\n",
    "* vim\n",
    "\n",
    "**For Windows**:\n",
    "\n",
    "* Visual Studio Code\n",
    "* Atom\n",
    "* Sublime Text\n",
    "* Notepad++"
   ]
  },
  {
   "cell_type": "markdown",
   "metadata": {},
   "source": [
    "#### 10. What are Jupyter notebooks?\n",
    "\n",
    "The notebook is a web application that allows you to combine explanatory text, math equations, code, and visualizations all in one easily sharable document. "
   ]
  },
  {
   "cell_type": "markdown",
   "metadata": {},
   "source": [
    "#### 11. Installing Jupyter Notebook\n",
    "\n",
    "To install Jupyter notebooks in a conda environment, use `conda install jupyter notebook`.\n",
    "\n",
    "Jupyter notebooks are also available through pip with `pip install jupyter notebook`."
   ]
  },
  {
   "cell_type": "markdown",
   "metadata": {},
   "source": [
    "#### 12. Launching the notebook server\n",
    "\n",
    "To start a notebook server, enter `jupyter notebook` in your terminal or console.  By default, the notebook server runs at http://localhost:8888. If you aren't familiar with this, localhost means your computer and 8888 is the port the server is communicating on.\n",
    "\n",
    "You should consider installing Notebook Conda to help manage your environments. Run the following command: `conda install nb_conda`"
   ]
  },
  {
   "cell_type": "markdown",
   "metadata": {},
   "source": [
    "#### 13. Notebook interface\n",
    "\n",
    "**The tool bar**\n",
    "\n",
    "* Elsewhere on the tool bar, starting from the left:\n",
    "    * The anachronistic symbol for \"save,\" the floppy disk. Saves the notebook!\n",
    "    * The + button creates a new cell\n",
    "    * Then, buttons to cut, copy, and paste cells.\n",
    "    * Run, stop, restart the kernel\n",
    "    * Cell type: code, Markdown, raw text, and header\n",
    "    * Command palette (see next)\n",
    "    * Cell toolbar, gives various options for cells such as using them as slides\n",
    "\n",
    "**Command palette**\n",
    "\n",
    "The little keyboard is the command palette. This will bring up a panel with a search bar where you can search for various commands. This is really helpful for speeding up your workflow as you don't need to search around in the menus with your mouse. Just open the command palette and type in what you want to do."
   ]
  },
  {
   "cell_type": "markdown",
   "metadata": {},
   "source": [
    "#### 14. Markdown cells\n",
    "\n",
    "As mentioned before, cells can also be used for text written in Markdown. Markdown is a formatting syntax that allows you to include links, style text as bold or italicized, and format code. As with code cells, you press Shift + Enter or Control + Enter to run the Markdown cell, where it will render the Markdown to formatted text."
   ]
  },
  {
   "cell_type": "markdown",
   "metadata": {},
   "source": [
    "#### 15. Code cells\n",
    "\n",
    "In code cells you can write any code, assigning variables, defining functions and classes, importing packages, and more. Any code executed in one cell is available in all other cells."
   ]
  },
  {
   "cell_type": "markdown",
   "metadata": {},
   "source": [
    "#### 16. Keyboard shortcuts\n",
    "\n",
    "* Command Mode (press Esc to enable)\n",
    "    * A: insert cell above\n",
    "    * B: insert cell below\n",
    "    * X: cut selected cells\n",
    "    * C: copy selected cells\n",
    "    * V: paste cells below\n",
    "    * Z: undo cell deletion\n",
    "    * D,D: delete selected cells\n",
    "\n",
    "* Edit Mode (press Enter to enable)\n",
    "    * ⌘↑: go to cell start\n",
    "    * ⌘↓: go to cell end\n",
    "    * ⌘⇧Z: redo\n",
    "    * ⌘⇧U: redo selection\n",
    "    * ⇧↩: run cell, select below\n",
    "    * ⌃↩: run selected cells\n",
    "    * ⌘S: Save and Checkpoint\n",
    "    * ↓: move cursor down\n",
    "    * ↑: move cursor up\n",
    "    * ⌘A: select all\n",
    "    * ⌘Z: undo\n",
    "    * ⌘D: delete whole line\n",
    "    * ⌘U: undo selection"
   ]
  },
  {
   "cell_type": "markdown",
   "metadata": {},
   "source": [
    "#### 17. Magic keywords\n",
    "\n",
    "Magic keywords are special commands you can run in cells that let you control the notebook itself or perform system calls such as changing directories. For example, you can set up matplotlib to work interactively in the notebook with `%matplotlib`.\n",
    "\n",
    "Magic commands are preceded with one or two percent signs (% or %%) for line magics and cell magics, respectively. Line magics apply only to the line the magic command is written on, while cell magics apply to the whole cell.\n",
    "\n",
    "1. timeit magic command\n",
    "    * %timeit\n",
    "    * %%timeit\n",
    "2. Embedding visualizations in notebooks\n",
    "    * %matplotlib inline\n",
    "    * %config InlineBackend.figure_format = 'retina'\n",
    "3. Debugging in the Notebook\n",
    "    * %pdb\n",
    "    * To quit the debugger, simply enter q in the prompt."
   ]
  },
  {
   "cell_type": "markdown",
   "metadata": {},
   "source": [
    "#### 18. Converting notebooks\n",
    "\n",
    "Since notebooks are JSON, it is simple to convert them to other formats. Jupyter comes with a utility called nbconvert for converting to HTML, Markdown, slideshows, etc.\n",
    "\n",
    "`jupyter nbconvert --to html notebook.ipynb`"
   ]
  },
  {
   "cell_type": "markdown",
   "metadata": {},
   "source": [
    "#### 19. Creating a slideshow\n",
    "\n",
    "In the menu bar, click View > Cell Toolbar > Slideshow to bring up the slide cell menu on each cell.\n",
    "\n",
    "* `jupyter nbconvert notebook.ipynb --to slides`\n",
    "* `jupyter nbconvert notebook.ipynb --to slides --post serve`"
   ]
  },
  {
   "cell_type": "markdown",
   "metadata": {},
   "source": [
    "#### 20. Outro"
   ]
  }
 ],
 "metadata": {
  "kernelspec": {
   "display_name": "Python 3",
   "language": "python",
   "name": "python3"
  },
  "language_info": {
   "codemirror_mode": {
    "name": "ipython",
    "version": 3
   },
   "file_extension": ".py",
   "mimetype": "text/x-python",
   "name": "python",
   "nbconvert_exporter": "python",
   "pygments_lexer": "ipython3",
   "version": "3.7.3"
  }
 },
 "nbformat": 4,
 "nbformat_minor": 2
}
