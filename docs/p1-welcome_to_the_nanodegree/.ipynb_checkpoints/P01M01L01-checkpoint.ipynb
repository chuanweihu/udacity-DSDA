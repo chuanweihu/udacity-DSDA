{
 "cells": [
  {
   "cell_type": "markdown",
   "metadata": {},
   "source": [
    "## Module 01: Welcome to the Data Scientist Nanodegree program\n",
    "\n",
    "### Lesson 01: Welcome to the Data Scientist Nanodegree program\n",
    "\n",
    "> Learn about what you will build, meet your instructors, and learn how to be successful in the Data Scientist Nanodegree Program! Welcome!"
   ]
  },
  {
   "cell_type": "markdown",
   "metadata": {},
   "source": [
    "#### 01. Welcome"
   ]
  },
  {
   "cell_type": "markdown",
   "metadata": {},
   "source": [
    "#### 02. Projects\n",
    "\n",
    "**Projects**\n",
    "\n",
    "1. Project 1: Find Donors for CharityML with Kaggle (Supervised Machine Learning)\n",
    "2. Project 2: Create an Image Classifier (Deep Learning)\n",
    "3. Project 3: Creating Customer Segments with Arvato (Unsupervised Machine Learning)"
   ]
  },
  {
   "cell_type": "markdown",
   "metadata": {},
   "source": [
    "#### 03. Program Structure & Schedule\n",
    "\n",
    "**Before You Start**\n",
    "\n",
    "[Syllabus](https://d20vrrgs8k4bvw.cloudfront.net/documents/en-US/Data+Scientist+Nanodegree+Syllabus.pdf)\n",
    "\n",
    "1. Prerequisites: The Data Scientist Nanodegree program is an advanced program designed to prepare you for data scientist jobs. As such, you should have a high comfort level with a variety of topics before starting the program. In order to successfully complete this program, we strongly recommend that the following prerequisites are fulfilled. If you do not have the necessary prerequisites, Udacity has courses and programs that prepare you for this Nanodegree program.\n",
    "    * Programming:\n",
    "        * Python Programming: Writing functions, logic, control flow, and building basic applications, as well as common data analysis libraries like NumPy and pandas\n",
    "        * SQL programming: Querying databases using joins, aggregations, and subqueries\n",
    "        * Comfortable with using the Terminal, version control in Git, and using GitHub\n",
    "    * Probability and Statistics\n",
    "         * Descriptive Statistics: Calculating measures of center and spread, estimation distributions\n",
    "         * Inferential Statistics: Sampling distributions, hypothesis testing\n",
    "         * Probability: Probability theory, conditional probability\n",
    "    * Mathematics\n",
    "        * Calculus: Maximizing and minimizing algebraic equations\n",
    "        * Linear Algebra: Matrix manipulation and multiplication\n",
    "    * Data wrangling and visualization\n",
    "        * Accessing database, CSV, and JSON data\n",
    "        * Data cleaning and transformations using pandas and Sklearn\n",
    "        * Exploratory data analysis and visualization\n",
    "        * Explanatory data visualizations and dashboards\n",
    "    * Machine Learning\n",
    "        * Feature Engineering\n",
    "        * Supervised Learning: Regression, classification, decision trees, random forest\n",
    "        * Unsupervised Learning: PCA, Clustering\n",
    "\n",
    "2. The following programs can prepare you to take this nanodegree program. There are also several free courses that you can use to prepare.\n",
    "    * Programming for Data Science with Python\n",
    "    * Data Analyst Nanodegree Program\n",
    "    * Intro to Machine Learning Nanodegree Program\n",
    "\n",
    "3. Educational Objectives: The ultimate goal of the Data Scientist Nanodegree program is for you to learn the skills you need to perform well as a data scientist. As a graduate of this program, you will be able to:\n",
    "    * Use Python and SQL to access and analyze data from several different data sources.\n",
    "    * Use principles of statistics and probability to design and execute A/B tests and recommendation engines to assist businesses in making data-automated decisions.\n",
    "    * Deploy a data science solution to a basic flask app.\n",
    "    * Manipulate and analyze distributed datasets using Apache Spark.\n",
    "    * Communicate results effectively to stakeholders.\n",
    "\n",
    "4. Introduction\n",
    "    * Estimated Length of Program: 4 months\n",
    "    * Program Structure: Self-paced\n",
    "    * Textbooks required: None\n",
    "    * Textbooks optional: Elements of Statistical Learning, Machine Learning: Probabilistic Perspective, Python Machine Learning\n",
    "    * Instructional Tools Available: Video lectures, mentor-led student community, forums, project reviews"
   ]
  },
  {
   "attachments": {},
   "cell_type": "markdown",
   "metadata": {},
   "source": [
    "#### 04. Learning Plan - First Two Weeks"
   ]
  },
  {
   "cell_type": "markdown",
   "metadata": {},
   "source": [
    "#### 05. Pre-assessment"
   ]
  },
  {
   "cell_type": "markdown",
   "metadata": {},
   "source": [
    "#### 06. Extracurriculars\n",
    "\n",
    "As success in this program relies on pre-existing knowledge in a number of topics, you can find courses on these topics linked in the extracurriculars of this program. Specifically, you can find the following courses:\n",
    "\n",
    "* Prerequisite: Python for Data Analysis\n",
    "* Prerequisite: SQL\n",
    "* Prerequisite: Data Visualization\n",
    "* Prerequisite: Command Line Essentials\n",
    "* Prerequisite: Git & Github\n",
    "* Prerequisite: Linear Algebra"
   ]
  },
  {
   "cell_type": "markdown",
   "metadata": {},
   "source": [
    "#### 07. Meet Your Instructors"
   ]
  },
  {
   "cell_type": "markdown",
   "metadata": {},
   "source": [
    "#### 08. How to Succeed"
   ]
  },
  {
   "cell_type": "markdown",
   "metadata": {},
   "source": [
    "#### 09. Careers Team Content"
   ]
  },
  {
   "cell_type": "markdown",
   "metadata": {},
   "source": [
    "#### 10. Meet the Careers Team"
   ]
  },
  {
   "cell_type": "markdown",
   "metadata": {},
   "source": [
    "#### 11. Access Your Career Portal"
   ]
  },
  {
   "cell_type": "markdown",
   "metadata": {},
   "source": [
    "#### 12. Your Udacity Professional Profile"
   ]
  },
  {
   "cell_type": "markdown",
   "metadata": {},
   "source": [
    "#### 13. Words of Encouragement"
   ]
  }
 ],
 "metadata": {
  "kernelspec": {
   "display_name": "Python 3",
   "language": "python",
   "name": "python3"
  },
  "language_info": {
   "codemirror_mode": {
    "name": "ipython",
    "version": 3
   },
   "file_extension": ".py",
   "mimetype": "text/x-python",
   "name": "python",
   "nbconvert_exporter": "python",
   "pygments_lexer": "ipython3",
   "version": "3.7.3"
  }
 },
 "nbformat": 4,
 "nbformat_minor": 2
}
