{
 "cells": [
  {
   "cell_type": "markdown",
   "metadata": {},
   "source": [
    "## Module 01: Supervised Learning\n",
    "\n",
    "### Lesson 01: Machine Learning Bird's Eye View\n",
    "\n",
    "> Before diving into the many algorithms of machine learning, it is important to take a step back and understand the big picture associated with the entire field."
   ]
  },
  {
   "cell_type": "markdown",
   "metadata": {},
   "source": [
    "#### 01. Introduction"
   ]
  },
  {
   "cell_type": "markdown",
   "metadata": {},
   "source": [
    "#### 02. History - A Statistician's Perspective\n",
    "\n",
    "Current uses of machine learning come from the combination of two perspectives. One is the perspective of statisticians and the second is that of computer scientists."
   ]
  },
  {
   "cell_type": "markdown",
   "metadata": {},
   "source": [
    "#### 03. History - A Computer Scientist's Perspective\n",
    "\n",
    "Machine learning has continued to evolve into extremely flexible models based more and more on data and less and less on human-enforced if-else statements. But these complex models often leave the why of a prediction unknown."
   ]
  },
  {
   "cell_type": "markdown",
   "metadata": {},
   "source": [
    "#### 04. Types of Machine Learning - Supervised\n",
    "\n",
    "* Branches of Machine Learning \n",
    "    * Supervised Learning(labeled data)\n",
    "        * Classification(categorical outcomes)\n",
    "        * Regression(numeric outcomes)\n",
    "    * Unsupervised Learning\n",
    "    * Reinforcement Learning"
   ]
  },
  {
   "cell_type": "markdown",
   "metadata": {},
   "source": [
    "#### 05. Types of Machine Learning - Unsupervised & Reinforcement\n",
    "\n",
    "* Branches of Machine Learning \n",
    "    * Supervised Learning\n",
    "        * Classification(categorical outcomes)\n",
    "        * Regression(numeric outcomes)\n",
    "    * Unsupervised Learning\n",
    "        * creates models for data when there are no preexisting labels to train on.\n",
    "    * Reinforcement Learning\n",
    "        * train algorithms that learn based on taking certain actions and receiving rewards for those actions.\n",
    "\n"
   ]
  },
  {
   "cell_type": "markdown",
   "metadata": {},
   "source": [
    "#### 06. Deep Learning\n",
    "\n",
    "* Barriers to Deep Learning\n",
    "    * enough data\n",
    "    * computing power\n",
    "    * can't understand decisions"
   ]
  },
  {
   "cell_type": "markdown",
   "metadata": {},
   "source": [
    "#### 07. Scikit Learn\n",
    "\n",
    "Scikit-learn, provides any data scientist the ability to use the most advanced techniques in supervised and unsupervised machine learning easily, and for a variety of situations."
   ]
  },
  {
   "cell_type": "markdown",
   "metadata": {},
   "source": [
    "#### 08. Ethics in Machine Learning\n",
    "\n",
    "Real-world validation of your models is even more important than statistical validation."
   ]
  },
  {
   "cell_type": "markdown",
   "metadata": {},
   "source": [
    "#### 09. What's Ahead"
   ]
  },
  {
   "cell_type": "markdown",
   "metadata": {},
   "source": [
    "#### 10. Text: Recap\n",
    "\n",
    "In this lesson, you gained a glimpse at the perspectives that have collided to create the three tiers of machine learning regularly recognized today:\n",
    "\n",
    "**Supervised Machine Learning**\n",
    "\n",
    "Studying labeled data, these techniques can extend patterns to unlabeled data. Supervised learning is used for many business applications from spam filters to movie recommendations. We looked at the two broad categories of supervised machine learning:\n",
    "\n",
    "* Classification\n",
    "* Regression\n",
    "\n",
    "**Unsupervised Machine Learning**\n",
    "\n",
    "By learning patterns even when data do not have labels, these techniques can group items together that are likely to be similar. Unsupervised techniques are used for business applications from figuring out market segments to again building recommendation engines.\n",
    "\n",
    "**Reinforcement Machine Learning**\n",
    "\n",
    "By training algorithms that learn based on taking certain actions and receiving rewards for those actions.With that being said, recent publicity in reinforcement learning has come from AlphaGo and autonomous vehicles. Additionally, reinforcement learning is often used in gaming agents like you see in Open AI Gym."
   ]
  }
 ],
 "metadata": {
  "kernelspec": {
   "display_name": "Python 3",
   "language": "python",
   "name": "python3"
  },
  "language_info": {
   "codemirror_mode": {
    "name": "ipython",
    "version": 3
   },
   "file_extension": ".py",
   "mimetype": "text/x-python",
   "name": "python",
   "nbconvert_exporter": "python",
   "pygments_lexer": "ipython3",
   "version": "3.7.3"
  }
 },
 "nbformat": 4,
 "nbformat_minor": 2
}
