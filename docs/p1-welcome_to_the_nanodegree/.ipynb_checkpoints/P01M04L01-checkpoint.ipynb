{
 "cells": [
  {
   "cell_type": "markdown",
   "metadata": {},
   "source": [
    "## Module 04: What Is Ahead?\n",
    "\n",
    "### Lesson 01: What Is Ahead?\n",
    "\n",
    "> What does it mean to be a Data Scientist? Let's here what our partners have to say!"
   ]
  },
  {
   "cell_type": "markdown",
   "metadata": {},
   "source": [
    "#### 01. What do Data Scientists Do?"
   ]
  },
  {
   "cell_type": "markdown",
   "metadata": {},
   "source": [
    "#### 02. Interview: Adam [IBM]\n",
    "\n",
    "A lot of the time to not know every detail, but to just try to gain experience, coding and make sure that you complement your learning in the classroom with actual practical applications."
   ]
  },
  {
   "cell_type": "markdown",
   "metadata": {},
   "source": [
    "#### 03. Interview: Rachel [Kaggle]\n",
    "\n",
    "1. Bucket one is the math\n",
    "    * Do you understand statistics?\n",
    "    * Do you understand machine learning?\n",
    "    * Are you familiar with these specialized techniques?\n",
    "    * And which ones are going to work in which applications?\n",
    "    * And what the common downsides of each one is?\n",
    "2. Bucket two is the software coding engineering side of it.\n",
    "3. The third bucket that's what I call data instincts or domain knowledge. "
   ]
  },
  {
   "cell_type": "markdown",
   "metadata": {},
   "source": [
    "#### 04. Interview: Robert [Figure8]\n",
    "\n",
    "One is a passion to work across a large number of use cases. The other is to be customer facing."
   ]
  },
  {
   "cell_type": "markdown",
   "metadata": {},
   "source": [
    "#### 05. Outro"
   ]
  }
 ],
 "metadata": {
  "kernelspec": {
   "display_name": "Python 3",
   "language": "python",
   "name": "python3"
  },
  "language_info": {
   "codemirror_mode": {
    "name": "ipython",
    "version": 3
   },
   "file_extension": ".py",
   "mimetype": "text/x-python",
   "name": "python",
   "nbconvert_exporter": "python",
   "pygments_lexer": "ipython3",
   "version": "3.7.3"
  }
 },
 "nbformat": 4,
 "nbformat_minor": 2
}
