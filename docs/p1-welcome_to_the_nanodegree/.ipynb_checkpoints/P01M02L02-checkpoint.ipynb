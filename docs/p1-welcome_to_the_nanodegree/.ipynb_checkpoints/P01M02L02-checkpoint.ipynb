{
 "cells": [
  {
   "cell_type": "markdown",
   "metadata": {},
   "source": [
    "## Module 02: How to Get Help from Peers and Mentors\n",
    "\n",
    "### Lesson 02: Get Help with Your Account\n",
    "\n",
    "> What to do if you have questions about your account or general questions about the program."
   ]
  },
  {
   "cell_type": "markdown",
   "metadata": {},
   "source": [
    "#### 01. FAQ\n",
    "\n",
    "Before creating a support request for a question about your account or a general question about your Nanodegree program, please see our FAQ. https://udacity.zendesk.com/hc/en-us\n",
    "\n",
    "You can search or browse by category for common support questions."
   ]
  },
  {
   "cell_type": "markdown",
   "metadata": {},
   "source": [
    "#### 02. Support\n",
    "\n",
    "If you have reviewed our FAQ and still have a question, you can submit a support request from our help site. https://udacity.zendesk.com/hc/en-us\n",
    "\n",
    "Please select the most relevant category for your request."
   ]
  }
 ],
 "metadata": {
  "kernelspec": {
   "display_name": "Python 3",
   "language": "python",
   "name": "python3"
  },
  "language_info": {
   "codemirror_mode": {
    "name": "ipython",
    "version": 3
   },
   "file_extension": ".py",
   "mimetype": "text/x-python",
   "name": "python",
   "nbconvert_exporter": "python",
   "pygments_lexer": "ipython3",
   "version": "3.7.3"
  }
 },
 "nbformat": 4,
 "nbformat_minor": 2
}
