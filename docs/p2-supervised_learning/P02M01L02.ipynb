{
 "cells": [
  {
   "cell_type": "markdown",
   "metadata": {},
   "source": [
    "## Module 01: Supervised Learning\n",
    "\n",
    "### Lesson 02: Linear Regression\n",
    "\n",
    "> Linear regression is one of the most fundamental algorithms in machine learning. In this lesson, learn how linear regression works!"
   ]
  },
  {
   "cell_type": "markdown",
   "metadata": {},
   "source": [
    "#### 01. Intro\n",
    "\n",
    "* Classification - form yes-no\n",
    "* Regression - how much"
   ]
  },
  {
   "cell_type": "markdown",
   "metadata": {},
   "source": [
    "#### 02. Quiz: Housing Prices"
   ]
  },
  {
   "cell_type": "markdown",
   "metadata": {},
   "source": [
    "#### 03. Solution: Housing Prices\n",
    "\n",
    "You can think of linear regression as a painter who would look at your data and draw the best fitting line through it"
   ]
  },
  {
   "cell_type": "markdown",
   "metadata": {},
   "source": [
    "#### 04. Fitting a Line Through Data\n",
    "\n",
    "The idea is that we take a few steps that make us go closer to all the points"
   ]
  },
  {
   "cell_type": "markdown",
   "metadata": {},
   "source": [
    "#### 05. Moving a Line\n",
    "\n",
    "* $y = w_{1}x+w_{2}$\n",
    "    * `slope: w1`\n",
    "    * `y-intercept: w2`"
   ]
  },
  {
   "cell_type": "markdown",
   "metadata": {},
   "source": [
    "#### 06. Absolute Trick\n",
    "\n",
    "* 绝对值技巧\n",
    "* $y = w_{1}x+w_{2}$ and (p, q)\n",
    "    * learning rate: $\\alpha$\n",
    "    * $y = (w_{1} \\pm p\\alpha)x+(w_{2} \\pm \\alpha)$"
   ]
  },
  {
   "cell_type": "markdown",
   "metadata": {},
   "source": [
    "#### 07. Square Trick\n",
    "\n",
    "* 平方技巧\n",
    "* $y = w_{1}x+w_{2}$ and (p, q)\n",
    "    * learning rate: $\\alpha$\n",
    "    * $y = (w_{1} + p(q-q^{'})\\alpha)x+(w_{2} + (q-q^{'})\\alpha)$"
   ]
  },
  {
   "cell_type": "markdown",
   "metadata": {},
   "source": [
    "#### 08. Quiz: Absolute and Square Trick"
   ]
  },
  {
   "cell_type": "markdown",
   "metadata": {},
   "source": [
    "#### 09. Gradient Descent\n",
    "\n",
    "* 梯度下降(GD)\n",
    "* $y = w_{1}x+w_{2}$ and (p, q)\n",
    "    * learning rate: $\\alpha$\n",
    "    * $w_{i} \\rightarrow w_{i} - \\alpha \\frac{\\partial}{\\partial w_i} Error$"
   ]
  },
  {
   "cell_type": "markdown",
   "metadata": {},
   "source": [
    "#### 10. Mean Absolute Error\n",
    "\n",
    "* 平均绝对值误差(MAE)\n",
    "* $y = w_{1}x+w_{2}$, (x, y) and (x, $\\hat y$)\n",
    "    * $\\hat y = w_{1}x + w_2$\n",
    "    * $\\displaystyle Error = \\frac{1}{m} \\sum_{i=1}^m|y-\\hat y|$\n"
   ]
  },
  {
   "cell_type": "markdown",
   "metadata": {},
   "source": [
    "#### 11. Mean Squared Error\n",
    "\n",
    "* 均方误差(MSE)\n",
    "* $y = w_{1}x+w_{2}$, (x, y) and (x, $\\hat y$)\n",
    "    * $\\hat y = w_{1}x + w_2$\n",
    "    * $\\displaystyle Error = \\frac{1}{2m} \\sum_{i=1}^m(y-\\hat y)^2$"
   ]
  },
  {
   "cell_type": "markdown",
   "metadata": {},
   "source": [
    "#### 12. Quiz: Mean Absolute & Squared Errors"
   ]
  },
  {
   "cell_type": "markdown",
   "metadata": {},
   "source": [
    "#### 13. Minimizing Error Functions\n",
    "\n",
    "* $y = w_{1}x+w_{2}$, (x, y) and (x, $\\hat y$)\n",
    "    * $\\hat y = w_{1}x + w_2$\n",
    "    * $\\displaystyle \\frac{\\partial}{\\partial w_1} Error = \\frac{\\partial Error}{\\partial \\hat y} \\frac{\\partial \\hat y}{\\partial w_1}$\n",
    "    * $\\displaystyle Error = \\frac{1}{2} (y-\\hat y)^2$\n",
    "        * $\\displaystyle \\frac{\\partial}{\\partial w_1} Error = -(y-\\hat y)x$\n",
    "        * $\\displaystyle \\frac{\\partial}{\\partial w_2} Error = -(y-\\hat y)$\n",
    "    * $\\displaystyle Error = |y-\\hat y|$\n",
    "        * $\\displaystyle \\frac{\\partial}{\\partial w_1} Error = \\pm x$\n",
    "        * $\\displaystyle \\frac{\\partial}{\\partial w_2} Error = \\pm 1$"
   ]
  },
  {
   "cell_type": "markdown",
   "metadata": {},
   "source": [
    "#### 14. Mean vs Total Error\n",
    "\n",
    "* $y = w_{1}x+w_{2}$, (x, y) and (x, $\\hat y$)\n",
    "    * $\\hat y = w_{1}x + w_2$\n",
    "    * $M = \\displaystyle \\sum_{i=1}^m \\frac{1}{2} (y - \\hat y)^2$\n",
    "    * $T = \\displaystyle \\sum_{i=1}^m \\frac{1}{2m} (y - \\hat y)^2$\n",
    "    * $M = mT$\n",
    "\n",
    "However, the gradient descent step consists of subtracting the gradient of the error times the learning rate α ($w_{i} \\rightarrow w_{i} - \\alpha \\frac{\\partial}{\\partial w_i} Error$). Therefore, choosing between the mean squared error and the total squared error really just amounts to picking a different learning rate."
   ]
  },
  {
   "cell_type": "markdown",
   "metadata": {},
   "source": [
    "#### 15. Mini-batch Gradient Descent\n",
    "\n",
    "At this point, it seems that we've seen two ways of doing linear regression.\n",
    "\n",
    "* **stochastic gradient descent**: By applying the squared (or absolute) trick at every point in our data one by one, and repeating this process many times.\n",
    "* **batch gradient descent**: By applying the squared (or absolute) trick at every point in our data all at the same time, and repeating this process many times.\n",
    "\n",
    "The best way to do linear regression, is to split your data into many small batches. Each batch, with roughly the same number of points. Then, use each batch to update your weights. This is still called **mini-batch gradient descent**."
   ]
  },
  {
   "cell_type": "markdown",
   "metadata": {},
   "source": [
    "#### 16. Quiz: Mini-Batch Gradient Descent"
   ]
  },
  {
   "cell_type": "code",
   "execution_count": 1,
   "metadata": {},
   "outputs": [],
   "source": [
    "import numpy as np\n",
    "import pandas as pd\n",
    "import matplotlib.pyplot as plt\n",
    "%matplotlib inline\n",
    "\n",
    "# Setting a random seed, feel free to change it and see different solutions.\n",
    "np.random.seed(42)"
   ]
  },
  {
   "cell_type": "code",
   "execution_count": 2,
   "metadata": {},
   "outputs": [
    {
     "data": {
      "image/png": "[encoded data removed]",
      "text/plain": [
       "<Figure size 432x288 with 1 Axes>"
      ]
     },
     "metadata": {
      "needs_background": "light"
     },
     "output_type": "display_data"
    }
   ],
   "source": [
    "# TODO: Fill in code in the function below to implement a gradient descent\n",
    "# step for linear regression, following a squared error rule. See the docstring\n",
    "# for parameters and returned variables.\n",
    "def MSEStep(X, y, W, b, learn_rate = 0.005):\n",
    "    \"\"\"\n",
    "    This function implements the gradient descent step for squared error as a\n",
    "    performance metric.\n",
    "    \n",
    "    Parameters\n",
    "    X : array of predictor features\n",
    "    y : array of outcome values\n",
    "    W : predictor feature coefficients\n",
    "    b : regression function intercept\n",
    "    learn_rate : learning rate\n",
    "\n",
    "    Returns\n",
    "    W_new : predictor feature coefficients following gradient descent step\n",
    "    b_new : intercept following gradient descent step\n",
    "    \"\"\"\n",
    "    \n",
    "    # Compute errors\n",
    "    y_pred = np.matmul(X, W) + b\n",
    "    error = y - y_pred\n",
    "    \n",
    "    # Compute stepss\n",
    "    W_new = W - learn_rate * np.matmul(error, X)\n",
    "    b_new = b - learn_rate * error.sum()\n",
    "    \n",
    "    return W_new, b_new\n",
    "\n",
    "# The parts of the script below will be run when you press the \"Test Run\"\n",
    "# button. The gradient descent step will be performed multiple times on\n",
    "# the provided dataset, and the returned list of regression coefficients\n",
    "# will be plotted.\n",
    "def miniBatchGD(X, y, batch_size = 20, learn_rate = 0.005, num_iter = 25):\n",
    "    \"\"\"\n",
    "    This function performs mini-batch gradient descent on a given dataset.\n",
    "\n",
    "    Parameters\n",
    "    X : array of predictor features\n",
    "    y : array of outcome values\n",
    "    batch_size : how many data points will be sampled for each iteration\n",
    "    learn_rate : learning rate\n",
    "    num_iter : number of batches used\n",
    "\n",
    "    Returns\n",
    "    regression_coef : array of slopes and intercepts generated by gradient\n",
    "      descent procedure\n",
    "    \"\"\"\n",
    "    n_points = X.shape[0]\n",
    "    W = np.zeros(X.shape[1]) # coefficients\n",
    "    b = 0 # intercept\n",
    "    \n",
    "    # run iterations\n",
    "    regression_coef = [np.hstack((W,b))]\n",
    "    for _ in range(num_iter):\n",
    "        batch = np.random.choice(range(n_points), batch_size)\n",
    "        X_batch = X[batch,:]\n",
    "        y_batch = y[batch]\n",
    "        W, b = MSEStep(X_batch, y_batch, W, b, learn_rate)\n",
    "        regression_coef.append(np.hstack((W,b)))\n",
    "    \n",
    "    return regression_coef\n",
    "\n",
    "if __name__ == \"__main__\":\n",
    "    # perform gradient descent\n",
    "    data = np.loadtxt('../../data/batch_data.csv', delimiter = ',')\n",
    "    X = data[:,:-1]\n",
    "    y = data[:,-1]\n",
    "    regression_coef = miniBatchGD(X, y)\n",
    "    \n",
    "    # plot the results\n",
    "    \n",
    "    plt.figure()\n",
    "    X_min = X.min()\n",
    "    X_max = X.max()\n",
    "    counter = len(regression_coef)\n",
    "    for W, b in regression_coef:\n",
    "        counter -= 1\n",
    "        color = [1 - 0.92 ** counter for _ in range(3)]\n",
    "        plt.plot([X_min, X_max],[X_min * W + b, X_max * W + b], color = color)\n",
    "    plt.scatter(X, y, zorder = 3)\n",
    "    plt.show()"
   ]
  },
  {
   "cell_type": "markdown",
   "metadata": {},
   "source": [
    "#### 17. Absolute Error vs Squared Error\n",
    "\n",
    "* The three parallel lines give the same Mean Absolute Error\n",
    "* The middle of threee paralle line give the smaller Mean Absolute Error"
   ]
  },
  {
   "cell_type": "markdown",
   "metadata": {},
   "source": [
    "#### 18. Linear Regression in scikit-learn\n",
    "\n",
    "You'll need to complete each of the following steps:\n",
    "1. Load the data\n",
    "    * The data is in the file called \"bmi_and_life_expectancy.csv\".\n",
    "    * Use pandas read_csv to load the data into a dataframe (don't forget to import pandas!)\n",
    "    * Assign the dataframe to the variable bmi_life_data.\n",
    "2. Build a linear regression model\n",
    "    * Create a regression model using scikit-learn's LinearRegression and assign it to bmi_life_model.\n",
    "    * Fit the model to the data.\n",
    "3. Predict using the model\n",
    "    * Predict using a BMI of 21.07931 and assign it to the variable laos_life_exp."
   ]
  },
  {
   "cell_type": "code",
   "execution_count": 3,
   "metadata": {},
   "outputs": [
    {
     "data": {
      "text/plain": [
       "array([[60.31564716]])"
      ]
     },
     "execution_count": 3,
     "metadata": {},
     "output_type": "execute_result"
    }
   ],
   "source": [
    "# TODO: Add import statements\n",
    "import pandas as pd\n",
    "from sklearn.linear_model import LinearRegression\n",
    "\n",
    "# Assign the dataframe to this variable.\n",
    "# TODO: Load the data\n",
    "bmi_life_data = pd.read_csv(\"../../data/bmi_and_life_expectancy.csv\")\n",
    "\n",
    "# Make and fit the linear regression model\n",
    "#TODO: Fit the model and Assign it to bmi_life_model\n",
    "bmi_life_model = LinearRegression()\n",
    "bmi_life_model.fit(bmi_life_data[['BMI']], bmi_life_data[['Life expectancy']])\n",
    "\n",
    "# Mak a prediction using the model\n",
    "# TODO: Predict life expectancy for a BMI value of 21.07931\n",
    "laos_life_exp = bmi_life_model.predict([[21.07931]])\n",
    "laos_life_exp"
   ]
  },
  {
   "cell_type": "code",
   "execution_count": 4,
   "metadata": {},
   "outputs": [
    {
     "data": {
      "image/png": "[encoded data removed]",
      "text/plain": [
       "<Figure size 432x288 with 1 Axes>"
      ]
     },
     "metadata": {
      "needs_background": "light"
     },
     "output_type": "display_data"
    }
   ],
   "source": [
    "prediction = bmi_life_model.predict(np.sort(bmi_life_data[['BMI']], axis=0))\n",
    "plt.scatter(bmi_life_data[['BMI']], bmi_life_data[['Life expectancy']])\n",
    "plt.plot(np.sort(bmi_life_data['BMI'], axis=0), prediction, 'r-', label=\"prediction\")\n",
    "plt.legend();"
   ]
  },
  {
   "cell_type": "markdown",
   "metadata": {},
   "source": [
    "#### 19. Higher Dimensions\n",
    "\n",
    "* n dimensional space: ($x_1, x_2, ..., x_{n-1}$)\n",
    "* prediction(n-1 dimensional hyperplane): $\\hat y = w_{1}x_1 + w_{2}+x_2+...+w_{n-1}x_{n-1}+w_n$"
   ]
  },
  {
   "cell_type": "markdown",
   "metadata": {},
   "source": [
    "#### 20. Multiple Linear Regression\n",
    "\n",
    "If you use n predictor variables, then the model can be represented by the equation: $\\hat y = w_{1}x_1 + w_{2}+x_2+...+w_{n-1}x_{n-1}+w_n$\n",
    "\n",
    "You'll need to complete each of the following steps:\n",
    "1. Build a linear regression model\n",
    "    * Create a regression model using scikit-learn's LinearRegression and assign it to model.\n",
    "    * Fit the model to the data.\n",
    "2. Predict using the model\n",
    "    * Predict the value of sample_house."
   ]
  },
  {
   "cell_type": "code",
   "execution_count": 5,
   "metadata": {},
   "outputs": [
    {
     "data": {
      "text/plain": [
       "array([23.68284712])"
      ]
     },
     "execution_count": 5,
     "metadata": {},
     "output_type": "execute_result"
    }
   ],
   "source": [
    "from sklearn.linear_model import LinearRegression\n",
    "from sklearn.datasets import load_boston\n",
    "\n",
    "# Load the data from the boston house-prices dataset \n",
    "boston_data = load_boston()\n",
    "x = boston_data['data']\n",
    "y = boston_data['target']\n",
    "\n",
    "# Make and fit the linear regression model\n",
    "# TODO: Fit the model and assign it to the model variable\n",
    "model = LinearRegression()\n",
    "model.fit(x, y)\n",
    "\n",
    "# Make a prediction using the model\n",
    "sample_house = [[2.29690000e-01, 0.00000000e+00, 1.05900000e+01, 0.00000000e+00, 4.89000000e-01,\n",
    "                6.32600000e+00, 5.25000000e+01, 4.35490000e+00, 4.00000000e+00, 2.77000000e+02,\n",
    "                1.86000000e+01, 3.94870000e+02, 1.09700000e+01]]\n",
    "# TODO: Predict housing price for the sample_house\n",
    "prediction = model.predict(sample_house)\n",
    "prediction"
   ]
  },
  {
   "cell_type": "markdown",
   "metadata": {},
   "source": [
    "#### 21. Closed Form Solution\n",
    "\n",
    "**2-Dimensional solution**\n",
    "\n",
    "* Our data will be the values: $x_1, x_2, ..., x_m$\n",
    "* and our labels will be the values: $y_1, y_2, ..., y_m$\n",
    "* Let's call our weights$w_1 and w_2$, Therefore, our predictions are $\\hat y_i = w_{1}x_i + w_2$\n",
    "* The mean squared error is $\\displaystyle E(w_1, w_2) = \\frac{1}{2m} \\sum_{i=1}^m(\\hat y - y)^2 = \\frac{1}{2m} \\sum_{i=1}^m(w_{1}x_i + w_2 - y_i)^2$\n",
    "* We need to minimize this error function. \n",
    "* $\\displaystyle \\frac{\\partial E}{\\partial w_1} = 0$\n",
    "* $\\displaystyle \\frac{\\partial E}{\\partial w_2} = 0$\n",
    "* We can use any method to solve 2 equations and 2 variables.\n",
    "\n",
    "**n-Dimensional solution**\n",
    "\n",
    "* $E(w) = \\frac{1}{m}((XW)^T-y^T)(XW-y)$\n",
    "* $E(w) = \\frac{1}{m}(W^{T}X^{T}XW-(XW)^{T}y-y^{T}(XW)+y^{T}y)$\n",
    "* $E(w) = \\frac{1}{m}(W^{T}X^{T}XW-2(XW)^{T}y+y^{T}y)$\n",
    "* $\\displaystyle \\frac{\\partial E}{\\partial W} = \\frac{1}{m}(2X^{T}XW-2X^{T}y)=0$\n",
    "* Normal Equation(正规方程): $W = (X^{T}X)^{-1}X^{T}y$\n",
    "\n",
    "As we stated in the video, this method will be expensive in real life, since finding the inverse of the matrix $X^{T}X$ is hard, if n is large. That's why we go through the pain of doing gradient descent many times. But if our data is sparse, namely, if most of the entries of the matrix $X$ are zero, there are some very interesting algorithms which will find this inverse quickly, and that'll make this method useful in real life."
   ]
  },
  {
   "cell_type": "markdown",
   "metadata": {},
   "source": [
    "#### 22. (Optional) Closed form Solution Math"
   ]
  },
  {
   "cell_type": "markdown",
   "metadata": {},
   "source": [
    "#### 23. Linear Regression Warnings\n",
    "\n",
    "* Linear Regression Works Best When the Data is Linear\n",
    "* Linear Regression is Sensitive to Outliers"
   ]
  },
  {
   "cell_type": "markdown",
   "metadata": {},
   "source": [
    "#### 24. Polynomial Regression\n",
    "\n",
    "We just take the mean absolute or squared error and take the derivative with respect to the four variables and use gradient descent to modify these four weights in order to minimize the error. These algorithm is known as polynomial regression."
   ]
  },
  {
   "cell_type": "markdown",
   "metadata": {},
   "source": [
    "#### 25. Quiz: Polynomial Regression\n",
    "\n",
    "**Perform the following steps below**:\n",
    "1. Load in the data\n",
    "    * The data is in the file called 'data.csv'. Note that this data has a header line.\n",
    "    * Make sure that you've split out the data into the predictor feature in X and outcome feature in y.\n",
    "    * For X, make sure it is in a 2-d array of 20 rows by 1 column. You might need to use NumPy's reshape function to accomplish this.\n",
    "2. Create polynomial features\n",
    "    * Create an instance of sklearn's PolynomialFeatures class and assign it to the variable poly_feat. Pay attention to how to set the degree of features, since that will be how the exercise is evaluated.\n",
    "    * Create the polynomial features by using the PolynomialFeatures object's .fit_transform() method. The \"fit\" side of the method considers how many features are needed in the output, and the \"transform\" side applies those considerations to the data provided to the method as an argument. Assign the new feature matrix to the X_poly variable.\n",
    "3. Build a polynomial regression model\n",
    "    * Create a polynomial regression model by combining sklearn's LinearRegression class with the polynomial features. Assign the fit model to poly_model."
   ]
  },
  {
   "cell_type": "code",
   "execution_count": 6,
   "metadata": {
    "scrolled": false
   },
   "outputs": [
    {
     "data": {
      "text/plain": [
       "array([  8.8785302 ,  10.7580315 ,   9.75038811,   8.92757844,\n",
       "         6.9768612 ,   4.76407384,   4.15648019,   1.98240061,\n",
       "        -0.36181139,  -1.43130223,  -2.91415446,  -4.15087169,\n",
       "        -6.67228084,  -7.45527022,  -9.73361543, -10.97544305,\n",
       "        -8.918469  ,  -6.55748759,  -5.7001477 ,   4.37232952])"
      ]
     },
     "execution_count": 6,
     "metadata": {},
     "output_type": "execute_result"
    }
   ],
   "source": [
    "# TODO: Add import statements\n",
    "from sklearn.linear_model import LinearRegression\n",
    "from sklearn.preprocessing import PolynomialFeatures\n",
    "\n",
    "# Assign the data to predictor and outcome variables\n",
    "# TODO: Load the data\n",
    "train_data = pd.read_csv('../../data/poly_data.csv')\n",
    "X = train_data['Var_X'].values.reshape(-1, 1)\n",
    "y = train_data['Var_Y'].values\n",
    "\n",
    "# Create polynomial features\n",
    "# TODO: Create a PolynomialFeatures object, then fit and transform the\n",
    "# predictor feature\n",
    "poly_feat = PolynomialFeatures(degree=4)\n",
    "X_poly = poly_feat.fit_transform(X)\n",
    "\n",
    "# Make and fit the polynomial regression model\n",
    "# TODO: Create a LinearRegression object and fit it to the polynomial predictor\n",
    "# features\n",
    "poly_model = LinearRegression(fit_intercept = False).fit(X_poly, y)\n",
    "\n",
    "# Once you've completed all of the steps, select Test Run to see your model\n",
    "# predictions against the data, or select Submit Answer to check if the degree\n",
    "# of the polynomial features is the same as ours!\n",
    "prediction = poly_model.predict(np.sort(X_poly, axis=0))\n",
    "prediction"
   ]
  },
  {
   "cell_type": "code",
   "execution_count": 7,
   "metadata": {
    "scrolled": true
   },
   "outputs": [
    {
     "data": {
      "image/png": "[encoded data removed]",
      "text/plain": [
       "<Figure size 432x288 with 1 Axes>"
      ]
     },
     "metadata": {
      "needs_background": "light"
     },
     "output_type": "display_data"
    }
   ],
   "source": [
    "plt.scatter(X, y)\n",
    "plt.plot(np.sort(X, axis=0), prediction, 'r', label=\"prediction\")\n",
    "plt.legend();"
   ]
  },
  {
   "cell_type": "markdown",
   "metadata": {},
   "source": [
    "#### 26. Regularization\n",
    "\n",
    "**Overfitting**\n",
    "\n",
    "overfitting means that the model performs well on the training data, but it does not generalize well. Overfitting happens when the model is too complex relative to the amount and noisiness of the training data. The possible solutions are:\n",
    "\n",
    "* To simplify the model by selecting one with fewer parameters (e.g., a linear model rather than a high-degree polynomial model), by reducing the number of attributes in the training data or by constraining the model\n",
    "* To gather more training data\n",
    "* To reduce the noise in the training data (e.g., fix data errors and remove outliers)\n",
    "\n",
    "The amount of regularization to apply during learning can be controlled by a `hyperparameter`. A hyperparameter is a parameter of a learning algorithm (not of the model). As such, it is not affected by the learning algorithm itself; it must be set prior to training and remains constant during training. \n",
    "\n",
    "The fitting procedure involves a loss function, known as residual sum of squares or RSS. The coefficients are chosen, such that they minimize this loss function. `λ` is the tuning parameter that decides how much we want to penalize the flexibility of our model.\n",
    "\n",
    "$\\displaystyle RSS=\\sum_{i=1}^m(w^{T}x_i - y_i)^2+\\lambda ||W||_{*}$\n",
    "\n",
    "Regularization helps prevent linear models from overfitting training data examples (that is, memorizing patterns instead of generalizing them) by penalizing extreme weight values. `L1 regularization` has the effect of reducing the number of features used in the model by pushing to zero the weights of features that would otherwise have small weights. As a result, L1 regularization results in sparse models and reduces the amount of noise in the model. `L2 regularization` results in smaller overall weight values, and stabilizes the weights when there is high correlation between the input features. \n",
    "\n",
    "|L1 Regularization|L2 Regularization|\n",
    "| --- | --- |\n",
    "|Computationally Inefficient(unless data is sparse)|Computationally Efficient|\n",
    "|Sparse Outputs|Non-Sparse Outputs|\n",
    "|Feature Selection|No Feature Selection|\n",
    "\n",
    "Regularization will remove features from a model (by setting their coefficients to zero) if the penalty for removing them is small."
   ]
  },
  {
   "cell_type": "markdown",
   "metadata": {},
   "source": [
    "#### 27. Quiz: Regularization\n",
    "\n",
    "Use sklearn's `Lasso` class to fit a linear regression model to the data, while also using L1 regularization to control for model complexity.\n",
    "\n",
    "Perform the following steps:\n",
    "1. Load in the data\n",
    "    * The data is in the file called 'data.csv'. Note that there's no header row on this file.\n",
    "    * Split the data so that the six predictor features (first six columns) are stored in X, and the outcome feature (last column) is stored in y.\n",
    "2. Fit data using linear regression with Lasso regularization\n",
    "    * Create an instance of sklearn's Lasso class and assign it to the variable lasso_reg. You don't need to set any parameter values: use the default values for the quiz.\n",
    "    * Use the Lasso object's .fit() method to fit the regression model onto the data.\n",
    "3. Inspect the coefficients of the regression model\n",
    "    * Obtain the coefficients of the fit regression model using the .coef_ attribute of the Lasso object. Store this in the reg_coef variable: the coefficients will be printed out, and you will use your observations to answer the question at the bottom of the page."
   ]
  },
  {
   "cell_type": "code",
   "execution_count": 8,
   "metadata": {},
   "outputs": [
    {
     "name": "stdout",
     "output_type": "stream",
     "text": [
      "[ 0.          2.35793224  2.00441646 -0.05511954 -3.92808318  0.        ]\n"
     ]
    }
   ],
   "source": [
    "# TODO: Add import statements\n",
    "from sklearn.linear_model import Lasso\n",
    "\n",
    "# Assign the data to predictor and outcome variables\n",
    "# TODO: Load the data\n",
    "train_data = np.loadtxt('../../data/lasso_data.csv', delimiter=',')\n",
    "X = train_data[:,:-1]\n",
    "y = train_data[:, -1]\n",
    "\n",
    "# TODO: Create the linear regression model with lasso regularization.\n",
    "lasso_reg = Lasso()\n",
    "\n",
    "# TODO: Fit the model.\n",
    "lasso_reg.fit(X, y)\n",
    "\n",
    "# TODO: Retrieve and print out the coefficients from the regression model.\n",
    "reg_coef = lasso_reg.coef_\n",
    "print(reg_coef)"
   ]
  },
  {
   "cell_type": "markdown",
   "metadata": {},
   "source": [
    "#### 28. Feature Scaling\n",
    "\n",
    "Feature scaling(特征缩放) is a way of transforming your data into a common range of values. There are two common scalings:\n",
    "\n",
    "* **Standardizing**\n",
    "    * Standardizing is completed by taking each value of your column, subtracting the mean of the column, and then dividing by the standard deviation of the column.\n",
    "    * In Python, let's say you have a column in df called height. You could create a standardized height as: `df[\"height_standard\"] = (df[\"height\"] - df[\"height\"].mean()) / df[\"height\"].std()`\n",
    "* **Normalizing**\n",
    "    * With normalizing, data are scaled between 0 and 1. \n",
    "    * `df[\"height_normal\"] = (df[\"height\"] - df[\"height\"].min() / (df[\"height\"].max() - df['height'].min())`\n",
    "\n",
    "In many machine learning algorithms, the result will change depending on the units of your data. This is especially true in two specific cases:\n",
    "* When your algorithm(SVMs, KNN) uses a distance based metric to predict.\n",
    "* When you incorporate regularization.\n",
    "\n",
    "Perform the following steps:\n",
    "1. Load in the data\n",
    "    * The data is in the file called 'data.csv'. Note that there's no header row on this file.\n",
    "    * Split the data so that the six predictor features (first six columns) are stored in X, and the outcome feature (last column) is stored in y.\n",
    "2. (NEW) Perform feature scaling on data via standardization\n",
    "    * Create an instance of sklearn's StandardScaler and assign it to the variable scaler.\n",
    "    * Compute the scaling parameters by using the .fit_transform() method on the predictor feature array, which also returns the predictor variables in their standardized values. Store those standardized values in X_scaled.\n",
    "3. Fit data using linear regression with Lasso regularization\n",
    "    * Create an instance of sklearn's Lasso class and assign it to the variable lasso_reg. You don't need to set any parameter values: use the default values for the quiz.\n",
    "    * Use the Lasso object's .fit() method to fit the regression model onto the data. Make sure that you apply the fit to the standardized data from the previous step (X_scaled), not the original data.\n",
    "4. Inspect the coefficients of the regression model\n",
    "    * Obtain the coefficients of the fit regression model using the .coef_ attribute of the Lasso object. Store this in the reg_coef variable: the coefficients will be printed out, and you will use your observations to answer the question at the bottom of the page."
   ]
  },
  {
   "cell_type": "code",
   "execution_count": 9,
   "metadata": {},
   "outputs": [
    {
     "name": "stdout",
     "output_type": "stream",
     "text": [
      "[  0.           3.90753617   9.02575748  -0.         -11.78303187\n",
      "   0.45340137]\n"
     ]
    }
   ],
   "source": [
    "# TODO: Add import statements\n",
    "from sklearn.linear_model import Lasso\n",
    "from sklearn.preprocessing import StandardScaler\n",
    "\n",
    "# Assign the data to predictor and outcome variables\n",
    "# TODO: Load the data\n",
    "train_data = np.loadtxt('../../data/lasso_data.csv', delimiter=',')\n",
    "X = train_data[:, :-1]\n",
    "y = train_data[:, -1]\n",
    "\n",
    "# TODO: Create the standardization scaling object.\n",
    "scaler = StandardScaler()\n",
    "\n",
    "# TODO: Fit the standardization parameters and scale the data.\n",
    "X_scaled = scaler.fit_transform(X)\n",
    "\n",
    "# TODO: Create the linear regression model with lasso regularization.\n",
    "lasso_reg = Lasso()\n",
    "\n",
    "# TODO: Fit the model.\n",
    "lasso_reg.fit(X_scaled, y)\n",
    "\n",
    "# TODO: Retrieve and print out the coefficients from the regression model.\n",
    "reg_coef = lasso_reg.coef_\n",
    "print(reg_coef)"
   ]
  },
  {
   "cell_type": "markdown",
   "metadata": {},
   "source": [
    "#### 29. Outro\n",
    "\n",
    "**Recap**\n",
    "\n",
    "In this lesson, you were introduced to linear models. Specifically, you saw:\n",
    "\n",
    "* **Gradient descent** as a method to optimize your linear models.\n",
    "* **Multiple Linear Regression** as a technique for when you are comparing more than two variables.\n",
    "* **Polynomial Regression** for relationships between variables that aren't linear.\n",
    "* **Regularization** as a technique to assure that your models will not only fit to the data available, but also extend to new situations.\n",
    "\n",
    "**Outro**\n",
    "\n",
    "In this lesson, you were predicting quantitative values. Predicting quantitative values is often just considered a Regression problem. In the next lesson, you will be introduced to predicting a category, which is called a Classification problem."
   ]
  }
 ],
 "metadata": {
  "kernelspec": {
   "display_name": "Python 3",
   "language": "python",
   "name": "python3"
  },
  "language_info": {
   "codemirror_mode": {
    "name": "ipython",
    "version": 3
   },
   "file_extension": ".py",
   "mimetype": "text/x-python",
   "name": "python",
   "nbconvert_exporter": "python",
   "pygments_lexer": "ipython3",
   "version": "3.6.10"
  }
 },
 "nbformat": 4,
 "nbformat_minor": 2
}
