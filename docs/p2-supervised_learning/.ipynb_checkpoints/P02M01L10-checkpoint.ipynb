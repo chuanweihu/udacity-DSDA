{
 "cells": [
  {
   "cell_type": "markdown",
   "metadata": {},
   "source": [
    "## Module 01: Supervised Learning\n",
    "\n",
    "### Lesson 10: Finding Donors Project\n",
    "\n",
    "> You've covered a wide variety of methods for performing supervised learning -- now it's time to put those into action!"
   ]
  },
  {
   "cell_type": "markdown",
   "metadata": {},
   "source": [
    "#### 01. Overview\n",
    "\n",
    "1. You will first explore the census data and learn how it is recorded.\n",
    "2. Next, you will apply a series of transformations and preprocessing techniques to manipulate the data into a workable format.\n",
    "3. You will then evaluate several supervised learners of your choice on the data and consider which is best suited for the solution.\n",
    "4. Afterwards, you will optimize them all you've selected and present it as your solution to charity ML.\n",
    "5. Finally, you will explore the chosen model and its predictions under the hood, to see how well it is performing when considering the data its been giving.\n",
    "\n",
    "Things you will learn by completing this project:\n",
    "\n",
    "* How to identify when preprocessing is needed, and how to apply it.\n",
    "* How to establish a benchmark for a solution to the problem.\n",
    "* What each of several supervised learning algorithms accomplishes given a specific dataset.\n",
    "* How to investigate whether a candidate solution model is adequate for the problem."
   ]
  },
  {
   "cell_type": "code",
   "execution_count": null,
   "metadata": {},
   "outputs": [],
   "source": [
    "w"
   ]
  }
 ],
 "metadata": {
  "kernelspec": {
   "display_name": "Python 3",
   "language": "python",
   "name": "python3"
  },
  "language_info": {
   "codemirror_mode": {
    "name": "ipython",
    "version": 3
   },
   "file_extension": ".py",
   "mimetype": "text/x-python",
   "name": "python",
   "nbconvert_exporter": "python",
   "pygments_lexer": "ipython3",
   "version": "3.6.10"
  }
 },
 "nbformat": 4,
 "nbformat_minor": 4
}
