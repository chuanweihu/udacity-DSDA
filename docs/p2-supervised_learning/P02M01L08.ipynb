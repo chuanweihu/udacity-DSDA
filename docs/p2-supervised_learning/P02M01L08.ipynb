{
 "cells": [
  {
   "cell_type": "markdown",
   "metadata": {},
   "source": [
    "## Module 01: Supervised Learning\n",
    "\n",
    "### Lesson 08: Model Evaluation Metrics\n",
    "\n",
    "> Learn the main metrics to evaluate models, such as accuracy, precision, recall, and more!"
   ]
  },
  {
   "cell_type": "markdown",
   "metadata": {},
   "source": [
    "#### 01. Intro\n",
    "\n",
    "* How well is my model doing?\n",
    "* How do we improve the model based on these metrics?"
   ]
  },
  {
   "cell_type": "markdown",
   "metadata": {},
   "source": [
    "#### 02. Outline\n",
    "\n",
    "* Problem $\\to$ Tools $\\to$ Measurement"
   ]
  },
  {
   "cell_type": "markdown",
   "metadata": {},
   "source": [
    "#### 03. Testing your models\n",
    "\n",
    "* Regression and Classification\n",
    "    * Regression returns a numeric value\n",
    "    * Classification returns a state\n",
    "\n",
    "* By testing we can compare the models\n",
    "* Golden rule: Thou shalt never use your testing data for training"
   ]
  },
  {
   "cell_type": "code",
   "execution_count": 1,
   "metadata": {},
   "outputs": [
    {
     "data": {
      "text/plain": [
       "0.9583333333333334"
      ]
     },
     "execution_count": 1,
     "metadata": {},
     "output_type": "execute_result"
    }
   ],
   "source": [
    "# Import statements \n",
    "from sklearn.tree import DecisionTreeClassifier\n",
    "from sklearn.metrics import accuracy_score\n",
    "import pandas as pd\n",
    "import numpy as np\n",
    "\n",
    "# Import the train test split\n",
    "# http://scikit-learn.org/0.16/modules/generated/sklearn.cross_validation.train_test_split.html\n",
    "# from sklearn.cross_validation import train_test_split\n",
    "# https://scikit-learn.org/stable/modules/generated/sklearn.model_selection.train_test_split.html\n",
    "from sklearn.model_selection import train_test_split\n",
    "\n",
    "# Read in the data.\n",
    "data = np.asarray(pd.read_csv('../../data/dt_data.csv', header=None))\n",
    "# Assign the features to the variable X, and the labels to the variable y. \n",
    "X = data[:,0:2]\n",
    "y = data[:,2]\n",
    "\n",
    "# Use train test split to split your data \n",
    "# Use a test size of 25% and a random state of 42\n",
    "X_train, X_test, y_train, y_test = train_test_split(X, \n",
    "                                                    y, \n",
    "                                                    random_state=42, \n",
    "                                                    test_size=0.25)\n",
    "\n",
    "# Instantiate your decision tree model\n",
    "model = DecisionTreeClassifier()\n",
    "\n",
    "# TODO: Fit the model to the training data.\n",
    "model.fit(X_train, y_train)\n",
    "\n",
    "# TODO: Make predictions on the test data\n",
    "y_pred = model.predict(X_test)\n",
    "\n",
    "# TODO: Calculate the accuracy and assign it to the variable acc on the test data.\n",
    "acc = accuracy_score(y_test, y_pred)\n",
    "acc"
   ]
  },
  {
   "cell_type": "markdown",
   "metadata": {},
   "source": [
    "#### 04. Confusion Matrix\n",
    "\n",
    "* Confusion Matrix(混淆矩阵)\n",
    "    * The true positives are the points that are positive and the model correctly labels as positive.\n",
    "    * The true negatives are the points that are negative and the model correctly labels as negative.\n",
    "    * The false positives are the points that are negative, but the model incorrectly labels as positive.\n",
    "    * The false negatives are the points that are positive but the modeling says negative.\n",
    "\n",
    "|Confusion Matrix |Guessed Positive|Guessed Negative|\n",
    "| :--: | :--: | :--: |\n",
    "|Positive|True Positives|False Negatives|\n",
    "|Negative|False Positives|True Negatives|\n",
    "\n",
    "* Type 1 Error (Error of the first kind, or False Positive): In the medical example, this is when we misdiagnose a healthy patient as sick.\n",
    "* Type 2 Error (Error of the second kind, or False Negative): In the medical example, this is when we misdiagnose a sick patient as healthy."
   ]
  },
  {
   "cell_type": "markdown",
   "metadata": {},
   "source": [
    "#### 05. Confusion Matrix 2"
   ]
  },
  {
   "cell_type": "markdown",
   "metadata": {},
   "source": [
    "#### 06. Accuracy\n",
    "\n",
    "* Accuracy(精度) is a ratio between correctly classified points and the number of total points\n",
    "* $Accuracy = \\frac{\\text{Correctly classified points}}{\\text{All points}}$"
   ]
  },
  {
   "cell_type": "markdown",
   "metadata": {},
   "source": [
    "#### 07. Accuracy 2"
   ]
  },
  {
   "cell_type": "markdown",
   "metadata": {},
   "source": [
    "#### 08. When accuracy won't work\n",
    "\n",
    "* Credit card fraud"
   ]
  },
  {
   "cell_type": "markdown",
   "metadata": {},
   "source": [
    "#### 09. False Negatives and Positives\n",
    "\n",
    "* In the medical example, False Negative is much worse than a False Positive.\n",
    "* In the spam detector example, a False Positive is much worse than a False Negative."
   ]
  },
  {
   "cell_type": "markdown",
   "metadata": {},
   "source": [
    "#### 10. Precision and Recall"
   ]
  },
  {
   "cell_type": "markdown",
   "metadata": {},
   "source": [
    "#### 11. Precision\n",
    "\n",
    "$Precision(查准率) = \\frac{TP}{TP+FP}$"
   ]
  },
  {
   "cell_type": "markdown",
   "metadata": {},
   "source": [
    "#### 12. Recall\n",
    "\n",
    "$Recall(查全率)=\\frac{TP}{TP+FN}$"
   ]
  },
  {
   "cell_type": "markdown",
   "metadata": {},
   "source": [
    "#### 13. F1 Score\n",
    "\n",
    "* we use `Harmonic mean`(调和平均) instead of `arithmetic mean`(算术平均)\n",
    "* F1 score(F1度量) is closer to the smallest between precision and recall\n",
    "$F_1 score = 2 * \\frac{Precision*Recall}{Precision+Recall}$"
   ]
  },
  {
   "cell_type": "markdown",
   "metadata": {},
   "source": [
    "#### 14. F-beta Score\n",
    "\n",
    "* $F_{\\beta} score = (1+\\beta^2) * \\frac{Precision*Recall}{\\beta^2 * Precision+Recall}$\n",
    "* When $\\beta$ = 0, $F_{\\beta}=Precision$\n",
    "* When $\\beta$ goes to infinity, $F_{\\beta} score = \\frac{Precision*Recall}{\\frac{\\beta^2}{1+\\beta^2}*Precision+\\frac{1}{1+\\beta^2}*Recall}=Recall$\n",
    "* $\\beta$ < 1, Precision more impact; $\\beta$ > 1, Recall more impact; "
   ]
  },
  {
   "cell_type": "markdown",
   "metadata": {},
   "source": [
    "#### 15. ROC Curve\n",
    "\n",
    "* ROC(Receiver Operating Characteristic, 受试者工作特征曲线)\n",
    "\n",
    "What we want is to come up with a metric or some number that is high for the perfect split, medium for the good split, and low for the random split.\n",
    "\n",
    "$TPR(\\text{True Positive Rate}) = \\frac{TP}{TP+FN} \\\\\n",
    "FPR(\\text{False Positive Rate}) = \\frac{FP}{TN+FP}$\n",
    "\n",
    "* AUC(Area Under ROC Curve)\n",
    "    * Random Split: Area(AUC) = 0.5\n",
    "    * Good Split: 0.5 < Area(AUC) < 1\n",
    "    * Perfect Split: Area(AUC) = 1"
   ]
  },
  {
   "cell_type": "markdown",
   "metadata": {},
   "source": [
    "#### 16. Sklearn Practice (Classification)\n",
    "\n",
    "**Our Mission**\n",
    "\n",
    "In this lesson you gained some insight into a number of techniques used to understand how well our model is performing.  This notebook is aimed at giving you some practice with the metrics specifically related to classification problems. With that in mind, we will again be looking at the spam dataset from the earlier lessons.\n",
    "\n",
    "First, run the cell below to prepare the data and instantiate a number of different models."
   ]
  },
  {
   "cell_type": "code",
   "execution_count": 2,
   "metadata": {},
   "outputs": [],
   "source": [
    "# Import our libraries\n",
    "import pandas as pd\n",
    "import numpy as np\n",
    "from sklearn.model_selection import train_test_split\n",
    "from sklearn.feature_extraction.text import CountVectorizer\n",
    "from sklearn.naive_bayes import MultinomialNB\n",
    "from sklearn.metrics import accuracy_score, precision_score, recall_score, f1_score\n",
    "from sklearn.ensemble import BaggingClassifier, RandomForestClassifier, AdaBoostClassifier\n",
    "from sklearn.svm import SVC\n",
    "import tests as t\n",
    "\n",
    "# Read in our dataset\n",
    "df = pd.read_table('../../data/SMSSpamCollection',\n",
    "                   sep='\\t', \n",
    "                   header=None, \n",
    "                   names=['label', 'sms_message'])\n",
    "\n",
    "# Fix our response value\n",
    "df['label'] = df.label.map({'ham':0, 'spam':1})\n",
    "\n",
    "# Split our dataset into training and testing data\n",
    "X_train, X_test, y_train, y_test = train_test_split(df['sms_message'], \n",
    "                                                    df['label'], \n",
    "                                                    random_state=1)\n",
    "\n",
    "# Instantiate the CountVectorizer method\n",
    "count_vector = CountVectorizer()\n",
    "\n",
    "# Fit the training data and then return the matrix\n",
    "training_data = count_vector.fit_transform(X_train)\n",
    "\n",
    "# Transform testing data and return the matrix. Note we are not fitting the testing data into the CountVectorizer()\n",
    "testing_data = count_vector.transform(X_test)\n",
    "\n",
    "# Instantiate a number of our models\n",
    "naive_bayes = MultinomialNB()\n",
    "bag_mod = BaggingClassifier(n_estimators=200)\n",
    "rf_mod = RandomForestClassifier(n_estimators=200)\n",
    "ada_mod = AdaBoostClassifier(n_estimators=300, learning_rate=0.2)\n",
    "svm_mod = SVC(probability=True)"
   ]
  },
  {
   "cell_type": "markdown",
   "metadata": {},
   "source": [
    "> **Step 1**: Now, fit each of the above models to the appropriate data.  Answer the following question to assure that you fit the models correctly."
   ]
  },
  {
   "cell_type": "code",
   "execution_count": 3,
   "metadata": {},
   "outputs": [
    {
     "name": "stdout",
     "output_type": "stream",
     "text": [
      "fit done\n"
     ]
    }
   ],
   "source": [
    "# Fit each of the 4 models\n",
    "# This might take some time to run\n",
    "\n",
    "bag_mod.fit(training_data, y_train)\n",
    "rf_mod.fit(training_data, y_train)\n",
    "ada_mod.fit(training_data, y_train)\n",
    "svm_mod.fit(training_data, y_train)\n",
    "print('fit done')"
   ]
  },
  {
   "cell_type": "code",
   "execution_count": 4,
   "metadata": {},
   "outputs": [
    {
     "name": "stdout",
     "output_type": "stream",
     "text": [
      "That's right!  You need to fit on both parts of the data pertaining to training data!\n"
     ]
    }
   ],
   "source": [
    "# The models you fit above were fit on which data?\n",
    "\n",
    "a = 'X_train'\n",
    "b = 'X_test'\n",
    "c = 'y_train'\n",
    "d = 'y_test'\n",
    "e = 'training_data'\n",
    "f = 'testing_data'\n",
    "\n",
    "# Change models_fit_on to only contain the correct string names\n",
    "# of values that you oassed to the above models\n",
    "\n",
    "models_fit_on = {e, c} # update this to only contain correct letters\n",
    "# don't have module t\n",
    "\n",
    "\n",
    "# Checks your solution - don't change this\n",
    "t.test_one(models_fit_on)"
   ]
  },
  {
   "cell_type": "markdown",
   "metadata": {},
   "source": [
    "> **Step 2**: Now make predictions for each of your models on the data that will allow you to understand how well our model will extend to new data.  Then correctly add the strings to the set in the following cell."
   ]
  },
  {
   "cell_type": "code",
   "execution_count": 5,
   "metadata": {},
   "outputs": [],
   "source": [
    "# Make predictions using each of your models\n",
    "bag_pred = bag_mod.predict(testing_data)\n",
    "rf_pred  = rf_mod.predict(testing_data)\n",
    "ada_pred = ada_mod.predict(testing_data)\n",
    "svm_pred = svm_mod.predict(testing_data)"
   ]
  },
  {
   "cell_type": "code",
   "execution_count": 6,
   "metadata": {},
   "outputs": [
    {
     "name": "stdout",
     "output_type": "stream",
     "text": [
      "That's right! To see how well our models perform in a new setting, you will want to predict on the test set of data.\n"
     ]
    }
   ],
   "source": [
    "# Which data was used in the predict method to see how well your\n",
    "# model would work on new data?\n",
    "\n",
    "a = 'X_train'\n",
    "b = 'X_test'\n",
    "c = 'y_train'\n",
    "d = 'y_test'\n",
    "e = 'training_data'\n",
    "f = 'testing_data'\n",
    "\n",
    "# Change models_predict_on to only contain the correct string names\n",
    "# of values that you oassed to the above models\n",
    "\n",
    "models_predict_on = {f} # update this to only contain correct letters\n",
    "# don't have module t\n",
    "\n",
    "# Checks your solution - don't change this\n",
    "t.test_two(models_predict_on)"
   ]
  },
  {
   "cell_type": "markdown",
   "metadata": {},
   "source": [
    "Now that you have set up all your predictions, let's get to topis addressed in this lesson - measuring how well each of your models performed. First, we will focus on how each metric was calculated for a single model, and then in the final part of this notebook, you will choose models that are best based on a particular metric.\n",
    "\n",
    "You will be writing functions to calculate a number of metrics and then comparing the values to what you get from sklearn.  This will help you build intuition for how each metric is calculated.\n",
    "\n",
    "> **Step 3**: As an example of how this will work for the upcoming questions, run the cell below.  Fill in the below function to calculate accuracy, and then compare your answer to the built in to assure you are correct."
   ]
  },
  {
   "cell_type": "code",
   "execution_count": 7,
   "metadata": {},
   "outputs": [
    {
     "name": "stdout",
     "output_type": "stream",
     "text": [
      "BaggingClassifier\n",
      "0.9741564967695621\n",
      "0.9741564967695621\n",
      "Since these match, we correctly calculated our metric!\n",
      "RandomForestClassifier\n",
      "0.9806173725771715\n",
      "0.9806173725771715\n",
      "Since these match, we correctly calculated our metric!\n",
      "AdaBoostClassifier\n",
      "0.9770279971284996\n",
      "0.9770279971284996\n",
      "Since these match, we correctly calculated our metric!\n",
      "SVC\n",
      "0.9849246231155779\n",
      "0.9849246231155779\n",
      "Since these match, we correctly calculated our metric!\n"
     ]
    }
   ],
   "source": [
    "# accuracy is the total correct divided by the total to predict\n",
    "def accuracy(actual, preds):\n",
    "    '''\n",
    "    INPUT\n",
    "    preds - predictions as a numpy array or pandas series\n",
    "    actual - actual values as a numpy array or pandas series\n",
    "    \n",
    "    OUTPUT:\n",
    "    returns the accuracy as a float\n",
    "    '''\n",
    "    return np.sum(preds == actual)/len(actual)\n",
    "\n",
    "print('BaggingClassifier')\n",
    "print(accuracy(y_test, bag_pred))\n",
    "print(accuracy_score(y_test, bag_pred))\n",
    "print(\"Since these match, we correctly calculated our metric!\")\n",
    "\n",
    "print('RandomForestClassifier')\n",
    "print(accuracy(y_test, rf_pred))\n",
    "print(accuracy_score(y_test, rf_pred))\n",
    "print(\"Since these match, we correctly calculated our metric!\")\n",
    "\n",
    "print('AdaBoostClassifier')\n",
    "print(accuracy(y_test, ada_pred))\n",
    "print(accuracy_score(y_test, ada_pred))\n",
    "print(\"Since these match, we correctly calculated our metric!\")\n",
    "\n",
    "print('SVC')\n",
    "print(accuracy(y_test, svm_pred))\n",
    "print(accuracy_score(y_test, svm_pred))\n",
    "print(\"Since these match, we correctly calculated our metric!\")"
   ]
  },
  {
   "cell_type": "markdown",
   "metadata": {},
   "source": [
    "> **Step 4**: Fill in the below function to calculate precision, and then compare your answer to the built in to assure you are correct."
   ]
  },
  {
   "cell_type": "code",
   "execution_count": 8,
   "metadata": {},
   "outputs": [
    {
     "name": "stdout",
     "output_type": "stream",
     "text": [
      "BaggingClassifier\n",
      "0.9116022099447514\n",
      "0.9116022099447514\n",
      "If the above match, you got it!\n",
      "RandomForestClassifier\n",
      "1.0\n",
      "1.0\n",
      "If the above match, you got it!\n",
      "AdaBoostClassifier\n",
      "0.9693251533742331\n",
      "0.9693251533742331\n",
      "If the above match, you got it!\n",
      "SVC\n",
      "0.9939759036144579\n",
      "0.9939759036144579\n",
      "If the above match, you got it!\n"
     ]
    }
   ],
   "source": [
    "# precision is the true positives over the predicted positive values\n",
    "def precision(actual, preds):\n",
    "    '''\n",
    "    INPUT\n",
    "    (assumes positive = 1 and negative = 0)\n",
    "    preds - predictions as a numpy array or pandas series \n",
    "    actual - actual values as a numpy array or pandas series\n",
    "    \n",
    "    OUTPUT:\n",
    "    returns the precision as a float\n",
    "    '''\n",
    "    \n",
    "    tp = len(np.intersect1d(np.where(preds==1), np.where(actual==1)))\n",
    "    pred_pos = (preds==1).sum()\n",
    "    if pred_pos > 0:\n",
    "        return tp/(pred_pos)\n",
    "    else:\n",
    "        return 0\n",
    "\n",
    "\n",
    "print('BaggingClassifier')\n",
    "print(precision(y_test, bag_pred))\n",
    "print(precision_score(y_test, bag_pred))\n",
    "print(\"If the above match, you got it!\")\n",
    "\n",
    "print('RandomForestClassifier')\n",
    "print(precision(y_test, rf_pred))\n",
    "print(precision_score(y_test, rf_pred))\n",
    "print(\"If the above match, you got it!\")\n",
    "\n",
    "print('AdaBoostClassifier')\n",
    "print(precision(y_test, ada_pred))\n",
    "print(precision_score(y_test, ada_pred))\n",
    "print(\"If the above match, you got it!\")\n",
    "\n",
    "print('SVC')\n",
    "print(precision(y_test, svm_pred))\n",
    "print(precision_score(y_test, svm_pred))\n",
    "print(\"If the above match, you got it!\")"
   ]
  },
  {
   "cell_type": "markdown",
   "metadata": {},
   "source": [
    "> **Step 5**: Fill in the below function to calculate recall, and then compare your answer to the built in to assure you are correct."
   ]
  },
  {
   "cell_type": "code",
   "execution_count": 9,
   "metadata": {},
   "outputs": [
    {
     "name": "stdout",
     "output_type": "stream",
     "text": [
      "BaggingClassifier\n",
      "0.8918918918918919\n",
      "0.8918918918918919\n",
      "If the above match, you got it!\n",
      "RandomForestClassifier\n",
      "0.8540540540540541\n",
      "0.8540540540540541\n",
      "If the above match, you got it!\n",
      "AdaBoostClassifier\n",
      "0.8540540540540541\n",
      "0.8540540540540541\n",
      "If the above match, you got it!\n",
      "SVC\n",
      "0.8918918918918919\n",
      "0.8918918918918919\n",
      "If the above match, you got it!\n"
     ]
    }
   ],
   "source": [
    "# recall is true positives over all actual positive values\n",
    "def recall(actual, preds):\n",
    "    '''\n",
    "    INPUT\n",
    "    preds - predictions as a numpy array or pandas series\n",
    "    actual - actual values as a numpy array or pandas series\n",
    "    \n",
    "    OUTPUT:\n",
    "    returns the recall as a float\n",
    "    '''\n",
    "\n",
    "    tp = len(np.intersect1d(np.where(preds==1), np.where(actual==1)))\n",
    "    act_pos = (actual==1).sum()\n",
    "    if act_pos > 0:\n",
    "        return tp/act_pos\n",
    "    else:\n",
    "        return 0\n",
    "\n",
    "\n",
    "print('BaggingClassifier')\n",
    "print(recall(y_test, bag_pred))\n",
    "print(recall_score(y_test, bag_pred))\n",
    "print(\"If the above match, you got it!\")\n",
    "\n",
    "print('RandomForestClassifier')\n",
    "print(recall(y_test, rf_pred))\n",
    "print(recall_score(y_test, rf_pred))\n",
    "print(\"If the above match, you got it!\")\n",
    "\n",
    "print('AdaBoostClassifier')\n",
    "print(recall(y_test, ada_pred))\n",
    "print(recall_score(y_test, ada_pred))\n",
    "print(\"If the above match, you got it!\")\n",
    "\n",
    "print('SVC')\n",
    "print(recall(y_test, svm_pred))\n",
    "print(recall_score(y_test, svm_pred))\n",
    "print(\"If the above match, you got it!\")"
   ]
  },
  {
   "cell_type": "markdown",
   "metadata": {},
   "source": [
    "> **Step 6**: Fill in the below function to calculate f1-score, and then compare your answer to the built in to assure you are correct."
   ]
  },
  {
   "cell_type": "code",
   "execution_count": 10,
   "metadata": {},
   "outputs": [
    {
     "name": "stdout",
     "output_type": "stream",
     "text": [
      "BaggingClassifier\n",
      "0.9016393442622951\n",
      "0.9016393442622951\n",
      "If the above match, you got it!\n",
      "RandomForestClassifier\n",
      "0.9212827988338192\n",
      "0.9212827988338192\n",
      "If the above match, you got it!\n",
      "AdaBoostClassifier\n",
      "0.9080459770114943\n",
      "0.9080459770114943\n",
      "If the above match, you got it!\n",
      "SVC\n",
      "0.9401709401709402\n",
      "0.9401709401709402\n",
      "If the above match, you got it!\n"
     ]
    }
   ],
   "source": [
    "# f1_score is 2*(precision*recall)/(precision+recall))\n",
    "def f1(preds, actual):\n",
    "    '''\n",
    "    INPUT\n",
    "    preds - predictions as a numpy array or pandas series\n",
    "    actual - actual values as a numpy array or pandas series\n",
    "    \n",
    "    OUTPUT:\n",
    "    returns the f1score as a float\n",
    "    '''\n",
    "    \n",
    "    tp = len(np.intersect1d(np.where(preds==1), np.where(actual==1)))\n",
    "    pred_pos = (preds==1).sum()\n",
    "    prec = tp/(pred_pos)\n",
    "    act_pos = (actual==1).sum()\n",
    "    recall = tp/act_pos\n",
    "    if (prec+recall) > 0:\n",
    "        return 2*(prec*recall)/(prec+recall)\n",
    "    else:\n",
    "        return 0\n",
    "\n",
    "print('BaggingClassifier')\n",
    "print(f1(y_test, bag_pred))\n",
    "print(f1_score(y_test, bag_pred))\n",
    "print(\"If the above match, you got it!\")\n",
    "\n",
    "print('RandomForestClassifier')\n",
    "print(f1(y_test, rf_pred))\n",
    "print(f1_score(y_test, rf_pred))\n",
    "print(\"If the above match, you got it!\")\n",
    "\n",
    "print('AdaBoostClassifier')\n",
    "print(f1(y_test, ada_pred))\n",
    "print(f1_score(y_test, ada_pred))\n",
    "print(\"If the above match, you got it!\")\n",
    "\n",
    "print('SVC')\n",
    "print(f1(y_test, svm_pred))\n",
    "print(f1_score(y_test, svm_pred))\n",
    "print(\"If the above match, you got it!\")"
   ]
  },
  {
   "cell_type": "markdown",
   "metadata": {},
   "source": [
    "> **Step 7:** Now that you have calculated a number of different metrics, let's tie that to when we might use one versus another.  Use the dictionary below to match a metric to each statement that identifies when you would want to use that metric."
   ]
  },
  {
   "cell_type": "code",
   "execution_count": 11,
   "metadata": {},
   "outputs": [
    {
     "name": "stdout",
     "output_type": "stream",
     "text": [
      "That's right!  It isn't really necessary to memorize these in practice, but it is important to know they exist and know why might use one metric over another for a particular situation.\n"
     ]
    }
   ],
   "source": [
    "# add the letter of the most appropriate metric to each statement\n",
    "# in the dictionary\n",
    "a = \"recall\"\n",
    "b = \"precision\"\n",
    "c = \"accuracy\"\n",
    "d = 'f1-score'\n",
    "\n",
    "\n",
    "seven_sol = {\n",
    "'We have imbalanced classes, which metric do we definitely not want to use?': c, # letter here,\n",
    "'We really want to make sure the positive cases are all caught even if that means we identify some negatives as positives': a, # letter here,    \n",
    "'When we identify something as positive, we want to be sure it is truly positive': b, # letter here, \n",
    "'We care equally about identifying positive and negative cases': d # letter here    \n",
    "}\n",
    "\n",
    "t.sol_seven(seven_sol)"
   ]
  },
  {
   "cell_type": "markdown",
   "metadata": {},
   "source": [
    "> **Step 8:** Given what you know about the metrics now, use this information to correctly match the appropriate model to when it would be best to use each in the dictionary below."
   ]
  },
  {
   "cell_type": "code",
   "execution_count": 12,
   "metadata": {},
   "outputs": [
    {
     "name": "stdout",
     "output_type": "stream",
     "text": [
      "That's right!  Naive Bayes was the best model for all of our metrics except precision!\n"
     ]
    }
   ],
   "source": [
    "# use the answers you found to the previous questiona, then match the model that did best for each metric\n",
    "a = \"naive-bayes\"\n",
    "b = \"bagging\"\n",
    "c = \"random-forest\"\n",
    "d = 'ada-boost'\n",
    "e = \"svm\"\n",
    "\n",
    "\n",
    "eight_sol = {\n",
    "'We have imbalanced classes, which metric do we definitely not want to use?': a, # letter here,\n",
    "'We really want to make sure the positive cases are all caught even if that means we identify some negatives as positives': a, # letter here,    \n",
    "'When we identify something as positive, we want to be sure it is truly positive': c, # letter here, \n",
    "'We care equally about identifying positive and negative cases': a # letter here  \n",
    "}\n",
    "\n",
    "t.sol_eight(eight_sol)"
   ]
  },
  {
   "cell_type": "code",
   "execution_count": 13,
   "metadata": {},
   "outputs": [],
   "source": [
    "def print_metrics(y_true, preds, model_name=None):\n",
    "    '''\n",
    "    INPUT:\n",
    "    y_true - the y values that are actually true in the dataset (numpy array or pandas series)\n",
    "    preds - the predictions for those values from some model (numpy array or pandas series)\n",
    "    model_name - (str - optional) a name associated with the model if you would like to add it to the print statements \n",
    "    \n",
    "    OUTPUT:\n",
    "    None - prints the accuracy, precision, recall, and F1 score\n",
    "    '''\n",
    "    if model_name == None:\n",
    "        print('Accuracy score: ', format(accuracy_score(y_true, preds)))\n",
    "        print('Precision score: ', format(precision_score(y_true, preds)))\n",
    "        print('Recall score: ', format(recall_score(y_true, preds)))\n",
    "        print('F1 score: ', format(f1_score(y_true, preds)))\n",
    "        print('\\n\\n')\n",
    "    \n",
    "    else:\n",
    "        print('Accuracy score for ' + model_name + ' :' , format(accuracy_score(y_true, preds)))\n",
    "        print('Precision score ' + model_name + ' :', format(precision_score(y_true, preds)))\n",
    "        print('Recall score ' + model_name + ' :', format(recall_score(y_true, preds)))\n",
    "        print('F1 score ' + model_name + ' :', format(f1_score(y_true, preds)))\n",
    "        print('\\n\\n')"
   ]
  },
  {
   "cell_type": "code",
   "execution_count": 14,
   "metadata": {},
   "outputs": [
    {
     "name": "stdout",
     "output_type": "stream",
     "text": [
      "Accuracy score for bagging : 0.9741564967695621\n",
      "Precision score bagging : 0.9116022099447514\n",
      "Recall score bagging : 0.8918918918918919\n",
      "F1 score bagging : 0.9016393442622951\n",
      "\n",
      "\n",
      "\n",
      "Accuracy score for random forest : 0.9806173725771715\n",
      "Precision score random forest : 1.0\n",
      "Recall score random forest : 0.8540540540540541\n",
      "F1 score random forest : 0.9212827988338192\n",
      "\n",
      "\n",
      "\n",
      "Accuracy score for adaboost : 0.9770279971284996\n",
      "Precision score adaboost : 0.9693251533742331\n",
      "Recall score adaboost : 0.8540540540540541\n",
      "F1 score adaboost : 0.9080459770114943\n",
      "\n",
      "\n",
      "\n",
      "Accuracy score for svm : 0.9849246231155779\n",
      "Precision score svm : 0.9939759036144579\n",
      "Recall score svm : 0.8918918918918919\n",
      "F1 score svm : 0.9401709401709402\n",
      "\n",
      "\n",
      "\n"
     ]
    }
   ],
   "source": [
    "# Print Bagging scores\n",
    "print_metrics(y_test, bag_pred, 'bagging')\n",
    "\n",
    "# Print Random Forest scores\n",
    "print_metrics(y_test, rf_pred, 'random forest')\n",
    "\n",
    "# Print AdaBoost scores\n",
    "print_metrics(y_test, ada_pred, 'adaboost')\n",
    "\n",
    "# Naive Bayes Classifier scores\n",
    "# print_metrics(y_test, nb, 'naive bayes')\n",
    "\n",
    "# SVM Classifier scores\n",
    "print_metrics(y_test, svm_pred, 'svm')"
   ]
  },
  {
   "cell_type": "markdown",
   "metadata": {},
   "source": [
    "As a final step in this workbook, let's take a look at the last three metrics you saw, f-beta scores, ROC curves, and AUC.\n",
    "\n",
    "**For f-beta scores:** If you decide that you care more about precision, you should move beta closer to 0.  If you decide you care more about recall, you should move beta towards infinity. \n",
    "\n",
    "> **Step 9:** Using the fbeta_score works similar to most of the other metrics in sklearn, but you also need to set beta as your weighting between precision and recall.  Use the space below to show that you can use [fbeta in sklearn](http://scikit-learn.org/stable/modules/generated/sklearn.metrics.fbeta_score.html) to replicate your f1-score from above.  If in the future you want to use a different weighting, [this article](http://mlwiki.org/index.php/Precision_and_Recall) does an amazing job of explaining how you might adjust beta for different situations."
   ]
  },
  {
   "cell_type": "code",
   "execution_count": 15,
   "metadata": {},
   "outputs": [
    {
     "name": "stdout",
     "output_type": "stream",
     "text": [
      "0.9016393442622951\n",
      "0.9016393442622951\n"
     ]
    }
   ],
   "source": [
    "#import fbeta score\n",
    "from sklearn.metrics import fbeta_score\n",
    "\n",
    "#show that the results are the same for fbeta and f1_score\n",
    "print(fbeta_score(y_test, bag_pred, beta=1))\n",
    "print(f1_score(y_test, bag_pred))"
   ]
  },
  {
   "cell_type": "markdown",
   "metadata": {},
   "source": [
    "> **Step 10:** Building ROC curves in python is a pretty involved process on your own.  I wrote the function below to assist with the process and make it easier for you to do so in the future as well.  Try it out using one of the other classifiers you created above to see how it compares to the random forest model below.\n",
    "\n",
    "Run the cell below to build a ROC curve, and retrieve the AUC for the random forest model."
   ]
  },
  {
   "cell_type": "code",
   "execution_count": 16,
   "metadata": {},
   "outputs": [
    {
     "data": {
      "image/png": "[encoded data removed]",
      "text/plain": [
       "<Figure size 432x288 with 1 Axes>"
      ]
     },
     "metadata": {
      "needs_background": "light"
     },
     "output_type": "display_data"
    },
    {
     "data": {
      "text/plain": [
       "0.9297297297297298"
      ]
     },
     "execution_count": 16,
     "metadata": {},
     "output_type": "execute_result"
    }
   ],
   "source": [
    "# Function for calculating auc and roc\n",
    "\n",
    "def build_roc_auc(model, X_train, X_test, y_train, y_test):\n",
    "    '''\n",
    "    INPUT:\n",
    "    model - an sklearn instantiated model\n",
    "    X_train - the training data\n",
    "    y_train - the training response values (must be categorical)\n",
    "    X_test - the test data\n",
    "    y_test - the test response values (must be categorical)\n",
    "    OUTPUT:\n",
    "    auc - returns auc as a float\n",
    "    prints the roc curve\n",
    "    '''\n",
    "    import numpy as np\n",
    "    import matplotlib.pyplot as plt\n",
    "    from itertools import cycle\n",
    "    from sklearn.metrics import roc_curve, auc, roc_auc_score\n",
    "    from scipy import interp\n",
    "    \n",
    "    y_preds = model.fit(X_train, y_train).predict_proba(X_test)\n",
    "    # Compute ROC curve and ROC area for each class\n",
    "    fpr = dict()\n",
    "    tpr = dict()\n",
    "    roc_auc = dict()\n",
    "    for i in range(len(y_test)):\n",
    "        fpr[i], tpr[i], _ = roc_curve(y_test, y_preds[:, 1])\n",
    "        roc_auc[i] = auc(fpr[i], tpr[i])\n",
    "\n",
    "    # Compute micro-average ROC curve and ROC area\n",
    "    fpr[\"micro\"], tpr[\"micro\"], _ = roc_curve(y_test.ravel(), y_preds[:, 1].ravel())\n",
    "    roc_auc[\"micro\"] = auc(fpr[\"micro\"], tpr[\"micro\"])\n",
    "    \n",
    "    plt.plot(fpr[2], tpr[2], color='darkorange',\n",
    "             lw=2, label='ROC curve (area = %0.2f)' % roc_auc[2])\n",
    "    plt.plot([0, 1], [0, 1], color='navy', lw=2, linestyle='--')\n",
    "    plt.xlim([0.0, 1.0])\n",
    "    plt.ylim([0.0, 1.05])\n",
    "    plt.xlabel('False Positive Rate')\n",
    "    plt.ylabel('True Positive Rate')\n",
    "    plt.title('Receiver operating characteristic example')\n",
    "    plt.show()\n",
    "    \n",
    "    return roc_auc_score(y_test, np.round(y_preds[:, 1]))\n",
    "    \n",
    "    \n",
    "# Finding roc and auc for the random forest model    \n",
    "build_roc_auc(rf_mod, training_data, testing_data, y_train, y_test) "
   ]
  },
  {
   "cell_type": "code",
   "execution_count": 17,
   "metadata": {},
   "outputs": [
    {
     "data": {
      "image/png": "[encoded data removed]",
      "text/plain": [
       "<Figure size 432x288 with 1 Axes>"
      ]
     },
     "metadata": {
      "needs_background": "light"
     },
     "output_type": "display_data"
    },
    {
     "data": {
      "text/plain": [
       "0.941612224807589"
      ]
     },
     "execution_count": 17,
     "metadata": {},
     "output_type": "execute_result"
    }
   ],
   "source": [
    "# Your turn here - choose another classifier to see how it compares\n",
    "build_roc_auc(bag_mod, training_data, testing_data, y_train, y_test) "
   ]
  },
  {
   "cell_type": "code",
   "execution_count": 18,
   "metadata": {},
   "outputs": [
    {
     "data": {
      "image/png": "[encoded data removed]",
      "text/plain": [
       "<Figure size 432x288 with 1 Axes>"
      ]
     },
     "metadata": {
      "needs_background": "light"
     },
     "output_type": "display_data"
    },
    {
     "data": {
      "text/plain": [
       "0.9249574906031861"
      ]
     },
     "execution_count": 18,
     "metadata": {},
     "output_type": "execute_result"
    }
   ],
   "source": [
    "build_roc_auc(ada_mod, training_data, testing_data, y_train, y_test) "
   ]
  },
  {
   "cell_type": "code",
   "execution_count": 19,
   "metadata": {},
   "outputs": [
    {
     "data": {
      "image/png": "[encoded data removed]",
      "text/plain": [
       "<Figure size 432x288 with 1 Axes>"
      ]
     },
     "metadata": {
      "needs_background": "light"
     },
     "output_type": "display_data"
    },
    {
     "data": {
      "text/plain": [
       "0.9671536602827995"
      ]
     },
     "execution_count": 19,
     "metadata": {},
     "output_type": "execute_result"
    }
   ],
   "source": [
    "build_roc_auc(svm_mod, training_data, testing_data, y_train, y_test) "
   ]
  },
  {
   "cell_type": "markdown",
   "metadata": {},
   "source": [
    "#### 17. Regression Metrics\n",
    "\n",
    "* MAE(Mean Absolute Error)\n",
    "    * Add the absolute values of the distances between the points and the line.\n",
    "    * from sklearn.metrics import mean_absolute_error\n",
    "    * MAE has a problem, which is that the absolute value function is not differentiable(不可微分)\n",
    "* MSE(Mean Squared Error)\n",
    "    * Add the squared of the distances between the points and the line.\n",
    "    * from sklearn.metrics import mean_squared_error\n",
    "* R2 Score(R Squared Score)\n",
    "    * based on comparing our model to the simplest possible model\n",
    "    * R2 = 1 - model/simplest_model\n",
    "    * from sklearn.metrics import r2_score"
   ]
  },
  {
   "cell_type": "markdown",
   "metadata": {},
   "source": [
    "#### 18. Sklearn Practice (Regression)\n",
    "\n",
    "**Boston Housing Data**\n",
    "\n",
    "In order to gain a better understanding of the metrics used in regression settings, we will be looking at the Boston Housing dataset. \n",
    "\n",
    "First use the cell below to read in the dataset and set up the training and testing data that will be used for the rest of this problem."
   ]
  },
  {
   "cell_type": "code",
   "execution_count": 20,
   "metadata": {},
   "outputs": [],
   "source": [
    "from sklearn.datasets import load_boston\n",
    "from sklearn.model_selection import train_test_split\n",
    "\n",
    "import numpy as np\n",
    "import tests2 as t\n",
    "\n",
    "boston = load_boston()\n",
    "X = boston.data\n",
    "y = boston.target\n",
    "\n",
    "X_train, X_test, y_train, y_test = train_test_split(X, y, test_size=0.33, random_state=42)"
   ]
  },
  {
   "cell_type": "markdown",
   "metadata": {},
   "source": [
    "> **Step 1:** Before we get too far, let's do a quick check of the models that you can use in this situation given that you are working on a regression problem.  Use the dictionary and corresponding letters below to provide all the possible models you might choose to use."
   ]
  },
  {
   "cell_type": "code",
   "execution_count": 21,
   "metadata": {},
   "outputs": [
    {
     "name": "stdout",
     "output_type": "stream",
     "text": [
      "That's right!  All but logistic regression can be used for predicting numeric values.  And linear regression is the only one of these that you should not use for predicting categories.  Technically sklearn won't stop you from doing most of anything you want, but you probably want to treat cases in the way you found by answering this question!\n"
     ]
    }
   ],
   "source": [
    "# When can you use the model - use each option as many times as necessary\n",
    "a = 'regression'\n",
    "b = 'classification'\n",
    "c = 'both regression and classification'\n",
    "\n",
    "models = {\n",
    "    'decision trees': c,# Letter here,\n",
    "    'random forest': c,# Letter here,\n",
    "    'adaptive boosting': c,# Letter here,\n",
    "    'logistic regression': b,# Letter here,\n",
    "    'linear regression': a# Letter here\n",
    "}\n",
    "\n",
    "#checks your answer, no need to change this code\n",
    "t.q1_check(models)"
   ]
  },
  {
   "cell_type": "markdown",
   "metadata": {},
   "source": [
    "> **Step 2:** Now for each of the models you found in the previous question that can be used for regression problems, import them using sklearn."
   ]
  },
  {
   "cell_type": "code",
   "execution_count": 22,
   "metadata": {},
   "outputs": [],
   "source": [
    "# Import models from sklearn - notice you will want to use \n",
    "# the regressor version (not classifier) - googling to find \n",
    "# each of these is what we all do!\n",
    "from sklearn.ensemble import RandomForestRegressor, AdaBoostRegressor\n",
    "from sklearn.linear_model import LinearRegression\n",
    "from sklearn.tree import DecisionTreeRegressor"
   ]
  },
  {
   "cell_type": "markdown",
   "metadata": {},
   "source": [
    "> **Step 3:** Now that you have imported the 4 models that can be used for regression problems, instantate each below."
   ]
  },
  {
   "cell_type": "code",
   "execution_count": 23,
   "metadata": {},
   "outputs": [],
   "source": [
    "# Instantiate each of the models you imported\n",
    "# For now use the defaults for all the hyperparameters\n",
    "rf_mod = RandomForestRegressor()\n",
    "ada_mod = AdaBoostRegressor()\n",
    "reg_mod = LinearRegression()\n",
    "tree_mod = DecisionTreeRegressor()"
   ]
  },
  {
   "cell_type": "markdown",
   "metadata": {},
   "source": [
    "> **Step 4:** Fit each of your instantiated models on the training data."
   ]
  },
  {
   "cell_type": "code",
   "execution_count": 24,
   "metadata": {},
   "outputs": [
    {
     "data": {
      "text/plain": [
       "DecisionTreeRegressor(ccp_alpha=0.0, criterion='mse', max_depth=None,\n",
       "                      max_features=None, max_leaf_nodes=None,\n",
       "                      min_impurity_decrease=0.0, min_impurity_split=None,\n",
       "                      min_samples_leaf=1, min_samples_split=2,\n",
       "                      min_weight_fraction_leaf=0.0, presort='deprecated',\n",
       "                      random_state=None, splitter='best')"
      ]
     },
     "execution_count": 24,
     "metadata": {},
     "output_type": "execute_result"
    }
   ],
   "source": [
    "# Fit each of your models using the training data\n",
    "rf_mod.fit(X_train, y_train)\n",
    "ada_mod.fit(X_train, y_train)\n",
    "reg_mod.fit(X_train, y_train)\n",
    "tree_mod.fit(X_train, y_train)"
   ]
  },
  {
   "cell_type": "markdown",
   "metadata": {},
   "source": [
    "> **Step 5:** Use each of your models to predict on the test data."
   ]
  },
  {
   "cell_type": "code",
   "execution_count": 25,
   "metadata": {},
   "outputs": [],
   "source": [
    "# Predict on the test values for each model\n",
    "preds_rf = rf_mod.predict(X_test)\n",
    "preds_ada = ada_mod.predict(X_test)\n",
    "preds_reg = reg_mod.predict(X_test)\n",
    "preds_tree = tree_mod.predict(X_test)"
   ]
  },
  {
   "cell_type": "markdown",
   "metadata": {},
   "source": [
    "> **Step 6:** Now for the information related to this lesson.  Use the dictionary to match the metrics that are used for regression and those that are for classification."
   ]
  },
  {
   "cell_type": "code",
   "execution_count": 26,
   "metadata": {},
   "outputs": [
    {
     "name": "stdout",
     "output_type": "stream",
     "text": [
      "That's right! Looks like you know your metrics!\n"
     ]
    }
   ],
   "source": [
    "# potential model options\n",
    "a = 'regression'\n",
    "b = 'classification'\n",
    "c = 'both regression and classification'\n",
    "\n",
    "# metrics\n",
    "metrics = {\n",
    "    'precision': b,# Letter here,\n",
    "    'recall': b,# Letter here,\n",
    "    'accuracy': b,# Letter here,\n",
    "    'r2_score': a,# Letter here,\n",
    "    'mean_squared_error': a,# Letter here,\n",
    "    'area_under_curve': b,# Letter here, \n",
    "    'mean_absolute_area': a# Letter here \n",
    "}\n",
    "\n",
    "#checks your answer, no need to change this code\n",
    "t.q6_check(metrics)"
   ]
  },
  {
   "cell_type": "markdown",
   "metadata": {},
   "source": [
    "> **Step 6:** Now that you have identified the metrics that can be used in for regression problems, use sklearn to import them."
   ]
  },
  {
   "cell_type": "code",
   "execution_count": 27,
   "metadata": {},
   "outputs": [],
   "source": [
    "# Import the metrics from sklearn\n",
    "from sklearn.metrics import r2_score, mean_squared_error, mean_absolute_error"
   ]
  },
  {
   "cell_type": "markdown",
   "metadata": {},
   "source": [
    "> **Step 7:** Similar to what you did with classification models, let's make sure you are comfortable with how exactly each of these metrics is being calculated.  We can then match the value to what sklearn provides."
   ]
  },
  {
   "cell_type": "code",
   "execution_count": 28,
   "metadata": {},
   "outputs": [
    {
     "name": "stdout",
     "output_type": "stream",
     "text": [
      "0.8652879246512287\n",
      "0.8652879246512287\n",
      "Since the above match, we can see that we have correctly calculated the r2 value.\n",
      "\n",
      "\n",
      "0.7917717525069123\n",
      "0.7917717525069123\n",
      "Since the above match, we can see that we have correctly calculated the r2 value.\n",
      "\n",
      "\n",
      "0.7485288955463388\n",
      "0.7485288955463388\n",
      "Since the above match, we can see that we have correctly calculated the r2 value.\n",
      "\n",
      "\n",
      "0.7261570836552478\n",
      "0.7261570836552478\n",
      "Since the above match, we can see that we have correctly calculated the r2 value.\n"
     ]
    }
   ],
   "source": [
    "def r2(actual, preds):\n",
    "    '''\n",
    "    INPUT:\n",
    "    actual - numpy array or pd series of actual y values\n",
    "    preds - numpy array or pd series of predicted y values\n",
    "    OUTPUT:\n",
    "    returns the r-squared score as a float\n",
    "    '''\n",
    "    sse = np.sum((actual-preds)**2)\n",
    "    sst = np.sum((actual-np.mean(actual))**2)\n",
    "    return 1 - sse/sst\n",
    "\n",
    "# Check solution matches sklearn\n",
    "print(r2(y_test, preds_rf))\n",
    "print(r2_score(y_test, preds_rf))\n",
    "print(\"Since the above match, we can see that we have correctly calculated the r2 value.\")\n",
    "print('\\n')\n",
    "print(r2(y_test, preds_ada))\n",
    "print(r2_score(y_test, preds_ada))\n",
    "print(\"Since the above match, we can see that we have correctly calculated the r2 value.\")\n",
    "print('\\n')\n",
    "print(r2(y_test, preds_tree))\n",
    "print(r2_score(y_test, preds_tree))\n",
    "print(\"Since the above match, we can see that we have correctly calculated the r2 value.\")\n",
    "print('\\n')\n",
    "print(r2(y_test, preds_reg))\n",
    "print(r2_score(y_test, preds_reg))\n",
    "print(\"Since the above match, we can see that we have correctly calculated the r2 value.\")"
   ]
  },
  {
   "cell_type": "markdown",
   "metadata": {},
   "source": [
    "> **Step 8:** Your turn fill in the function below and see if your result matches the built in for mean_squared_error. "
   ]
  },
  {
   "cell_type": "code",
   "execution_count": 29,
   "metadata": {},
   "outputs": [
    {
     "name": "stdout",
     "output_type": "stream",
     "text": [
      "19.030958083832335\n",
      "19.030958083832335\n",
      "If the above match, you are all set!\n",
      "\n",
      "\n",
      "10.194808922155683\n",
      "10.194808922155683\n",
      "If the above match, you are all set!\n",
      "\n",
      "\n",
      "15.758403171291766\n",
      "15.758403171291766\n",
      "If the above match, you are all set!\n",
      "\n",
      "\n",
      "19.030958083832335\n",
      "19.030958083832335\n",
      "If the above match, you are all set!\n",
      "\n",
      "\n",
      "20.72402343733974\n",
      "20.72402343733974\n",
      "If the above match, you are all set!\n"
     ]
    }
   ],
   "source": [
    "def mse(actual, preds):\n",
    "    '''\n",
    "    INPUT:\n",
    "    actual - numpy array or pd series of actual y values\n",
    "    preds - numpy array or pd series of predicted y values\n",
    "    OUTPUT:\n",
    "    returns the mean squared error as a float\n",
    "    '''\n",
    "    return np.sum((actual-preds)**2)/len(actual)\n",
    "\n",
    "# Check your solution matches sklearn\n",
    "print(mse(y_test, preds_tree))\n",
    "print(mean_squared_error(y_test, preds_tree))\n",
    "print(\"If the above match, you are all set!\")\n",
    "print('\\n')\n",
    "print(mse(y_test, preds_rf))\n",
    "print(mean_squared_error(y_test, preds_rf))\n",
    "print(\"If the above match, you are all set!\")\n",
    "print('\\n')\n",
    "print(mse(y_test, preds_ada))\n",
    "print(mean_squared_error(y_test, preds_ada))\n",
    "print(\"If the above match, you are all set!\")\n",
    "print('\\n')\n",
    "print(mse(y_test, preds_tree))\n",
    "print(mean_squared_error(y_test, preds_tree))\n",
    "print(\"If the above match, you are all set!\")\n",
    "print('\\n')\n",
    "print(mse(y_test, preds_reg))\n",
    "print(mean_squared_error(y_test, preds_reg))\n",
    "print(\"If the above match, you are all set!\")"
   ]
  },
  {
   "cell_type": "markdown",
   "metadata": {},
   "source": [
    "> **Step 9:** Now one last time - complete the function related to mean absolute error.  Then check your function against the sklearn metric to assure they match. "
   ]
  },
  {
   "cell_type": "code",
   "execution_count": 30,
   "metadata": {},
   "outputs": [
    {
     "name": "stdout",
     "output_type": "stream",
     "text": [
      "3.025748502994012\n",
      "3.025748502994012\n",
      "If the above match, you are all set!\n",
      "\n",
      "\n",
      "2.1593293413173646\n",
      "2.1593293413173646\n",
      "If the above match, you are all set!\n",
      "\n",
      "\n",
      "2.814160876580999\n",
      "2.814160876580999\n",
      "If the above match, you are all set!\n",
      "\n",
      "\n",
      "3.025748502994012\n",
      "3.025748502994012\n",
      "If the above match, you are all set!\n",
      "\n",
      "\n",
      "3.1482557548168217\n",
      "3.1482557548168217\n",
      "If the above match, you are all set!\n"
     ]
    }
   ],
   "source": [
    "def mae(actual, preds):\n",
    "    '''\n",
    "    INPUT:\n",
    "    actual - numpy array or pd series of actual y values\n",
    "    preds - numpy array or pd series of predicted y values\n",
    "    OUTPUT:\n",
    "    returns the mean absolute error as a float\n",
    "    '''\n",
    "    return np.sum(np.abs(actual-preds))/len(actual)\n",
    "\n",
    "# Check your solution matches sklearn\n",
    "print(mae(y_test, preds_tree))\n",
    "print(mean_absolute_error(y_test, preds_tree))\n",
    "print(\"If the above match, you are all set!\")\n",
    "print('\\n')\n",
    "print(mae(y_test, preds_rf))\n",
    "print(mean_absolute_error(y_test, preds_rf))\n",
    "print(\"If the above match, you are all set!\")\n",
    "print('\\n')\n",
    "print(mae(y_test, preds_ada))\n",
    "print(mean_absolute_error(y_test, preds_ada))\n",
    "print(\"If the above match, you are all set!\")\n",
    "print('\\n')\n",
    "print(mae(y_test, preds_tree))\n",
    "print(mean_absolute_error(y_test, preds_tree))\n",
    "print(\"If the above match, you are all set!\")\n",
    "print('\\n')\n",
    "print(mae(y_test, preds_reg))\n",
    "print(mean_absolute_error(y_test, preds_reg))\n",
    "print(\"If the above match, you are all set!\")\n"
   ]
  },
  {
   "cell_type": "markdown",
   "metadata": {},
   "source": [
    "> **Step 10:** Which model performed the best in terms of each of the metrics?  Note that r2 and mse will always match, but the mae may give a different best model.  Use the dictionary and space below to match the best model via each metric."
   ]
  },
  {
   "cell_type": "code",
   "execution_count": 31,
   "metadata": {},
   "outputs": [
    {
     "name": "stdout",
     "output_type": "stream",
     "text": [
      "That's right!  The random forest was best in terms of all the metrics this time!\n"
     ]
    }
   ],
   "source": [
    "#match each metric to the model that performed best on it\n",
    "a = 'decision tree'\n",
    "b = 'random forest'\n",
    "c = 'adaptive boosting'\n",
    "d = 'linear regression'\n",
    "\n",
    "\n",
    "best_fit = {\n",
    "    'mse': b,# letter here,\n",
    "    'r2': b,# letter here,\n",
    "    'mae': b# letter here\n",
    "}\n",
    "\n",
    "#Tests your answer - don't change this code\n",
    "t.check_ten(best_fit)"
   ]
  },
  {
   "cell_type": "markdown",
   "metadata": {},
   "source": [
    "#### 19. Text: Recap\n",
    "\n",
    "**Recap**\n",
    "\n",
    "In this lesson, you got a glimpse at the ways that we can measure how well our models are performing.\n",
    "\n",
    "**Training & Testing Data**\n",
    "\n",
    "First, it is important to always split your data into training and testing. Then you will measure how well your model performs on the test set of data after being fit training data.\n",
    "\n",
    "**Classification Measures**\n",
    "\n",
    "If you are fitting your model to predict categorical data (spam not spam), there are different measures to understand how well your model is performing than if you are predicting numeric values (the price of a home).\n",
    "\n",
    "As we look at classification metrics, note that the [wikipedia](https://en.wikipedia.org/wiki/Precision_and_recall) page on this topic is wonderful, but also a bit daunting. I frequently use it to remember which metric does what.\n",
    "\n",
    "Specifically, you saw how to calculate:\n",
    "\n",
    "1. Accuracy(精度)\n",
    "\n",
    "Accuracy is often used to compare models, as it tells us the proportion of observations we correctly labeled. Often accuracy is not the only metric you should be optimizing on. This is especially the case when you have class imbalance in your data. Optimizing on only accuracy can be misleading in how well your model is truly performing. With that in mind, you saw some additional metrics.\n",
    "\n",
    "$$Accuracy = \\frac{\\text{True Positives + True Negatives}}{TP+FP+FN+TN}$$\n",
    "\n",
    "2. Precision(查准率)\n",
    "\n",
    "Precision focuses on the `predicted \"positive\" values` in your dataset. By optimizing based on precision values, you are determining if you are doing a good job of predicting the positive values, as compared to predicting negative values as positive.\n",
    "\n",
    "$$Precision = \\frac{\\text{True Positives}}{TP+FP}$$\n",
    "\n",
    "3. Recall(查全率)\n",
    "\n",
    "Recall focuses on the `actual \"positive\" values` in your dataset. By optimizing based on recall values, you are determining if you are doing a good job of predicting the positive values without regard of how you are doing on the actual negative values. If you want to perform something similar to recall on the `actual 'negative' values`, this is called `specificity`.\n",
    "\n",
    "$$Recall = \\frac{\\text{True Positives}}{TP+FN}$$\n",
    "\n",
    "4. F-Beta Score(F-Beta度量)\n",
    "\n",
    "In order to look at a combination of metrics at the same time, there are some common techniques like the F-Beta Score(加权调和平均) (where the F1 score is frequently used), as well as the ROC and AUC. You can see that the β parameter controls the degree to which precision is weighed into the F score, which allows precision and recall to be considered simultaneously. The most common value for beta is 1, as this is where you are finding the harmonic average between precision and recall.\n",
    "\n",
    "$$F_{\\beta} score = (1+\\beta^2) * \\frac{Precision * Recall}{\\beta^2 * Precision+Recall}$$\n",
    "\n",
    "5. ROC Curve & AUC(Receiver Operating Characteristic, 受试者工作特征曲线 & Area Under ROC Curve, ROC曲线下的面积)\n",
    "\n",
    "By finding different thresholds for our classification metrics, we can measure the area under the curve (where the curve is known as a ROC curve). Similar to each of the other metrics above, when the AUC is higher (closer to 1), this suggests that our model performance is better than when our metric is close to 0.\n",
    "\n",
    "You may end up choosing to optimize on any of these measures. I commonly end up using `AUC or an F1 score in practice`. However, there are always reason to choose one measure over another depending on your situation.\n",
    "\n",
    "**Regression Measures**\n",
    "\n",
    "You want to measure how well your algorithms are performing on predicting numeric values? In these cases, there are three main metrics that are frequently used. `mean absolute error, mean squared error, and r2 values`.\n",
    "\n",
    "As an important note, optimizing on the mean absolute error may lead to a different 'best model' than if you optimize on the mean squared error. However, optimizing on the mean squared error will always lead to the same 'best' model as if you were to optimize on the r2 value.\n",
    "\n",
    "Again, if you choose a model with the best r2 value (the highest), it will also be the model that has the lowest (MSE). Choosing one versus another is based on which one you feel most comfortable explaining to someone else.\n",
    "\n",
    "1. Mean Absolute Error (MAE, 平均绝对误差)\n",
    "\n",
    "The first metric you saw was the mean absolute error. This is a useful metric to optimize on when the value you are trying to `predict follows a skewed distribution`. Optimizing on an absolute value is particularly helpful in these cases because outliers will not influence models attempting to optimize on this metric as much as if you use the mean squared error. The optimal value for this technique is the median value. When you optimize for the R2 value of the mean squared error, the optimal value is actually the mean.\n",
    "\n",
    "`from sklearn.metrics import mean_absolute_error`\n",
    "\n",
    "2. Mean-Squared Error (MSE, 均方差)\n",
    "\n",
    "The mean squared error is by far the most used metric for optimization in regression problems. Similar to with MAE, you want to find a model that minimizes this value. This metric can be `greatly impacted by skewed distributions and outliers`. When a model is considered optimal via MAE, but not for MSE, it is useful to keep this in mind. In many cases, it is easier to actually optimize on MSE, as the a quadratic term is differentiable. However, an absolute value is not differentiable. This factor makes this metric better for gradient based optimization algorithms.\n",
    "\n",
    "`from sklearn.metrics import mean_squared_error`\n",
    "\n",
    "3. R2 Score\n",
    "\n",
    "Finally, the r2 value is another common metric when looking at regression values. Optimizing a model to have the `lowest MSE` will also optimize a model to have the the `highest R2 value`. This is a convenient feature of this metric. The R2 value is frequently interpreted as the `'amount of variability'` captured by a model. Therefore, you can think of MSE, as the `average amount you miss by across all the points`, and the R2 value as the `amount of the variability in the points that you capture with a model`."
   ]
  },
  {
   "cell_type": "markdown",
   "metadata": {},
   "source": [
    "#### 20. Summary\n",
    "\n",
    "* you have a problem which is some data you need to classify. \n",
    "* You also have a bunch of algorithms things like neural networks, logistic regression, polynomial regression as VMs, decision trees, random forests et cetera.\n",
    "* And we have a bunch of metrics, things like model complexity graphs, accuracy precision, recall, F1 score, learning curves et cetera. \n",
    "* What you do, is you use these ones to test your models, see how they're doing, pick the best one and that's what you use to model your data. Then when you have a new point, you can predict it's label based on that model."
   ]
  }
 ],
 "metadata": {
  "kernelspec": {
   "display_name": "Python 3",
   "language": "python",
   "name": "python3"
  },
  "language_info": {
   "codemirror_mode": {
    "name": "ipython",
    "version": 3
   },
   "file_extension": ".py",
   "mimetype": "text/x-python",
   "name": "python",
   "nbconvert_exporter": "python",
   "pygments_lexer": "ipython3",
   "version": "3.6.10"
  }
 },
 "nbformat": 4,
 "nbformat_minor": 4
}
